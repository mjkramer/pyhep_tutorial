{
 "cells": [
  {
   "cell_type": "markdown",
   "id": "eaea5c55-67ef-4ec2-b49a-ba05d348a166",
   "metadata": {
    "editable": true,
    "slideshow": {
     "slide_type": ""
    },
    "tags": []
   },
   "source": [
    "# PDG API tutorial, PyHEP 2024"
   ]
  },
  {
   "cell_type": "markdown",
   "id": "f2665a7b-f8ad-4ebf-84c5-d18d77bdde1f",
   "metadata": {
    "editable": true,
    "slideshow": {
     "slide_type": ""
    },
    "tags": []
   },
   "source": [
    "## Introduction"
   ]
  },
  {
   "cell_type": "markdown",
   "id": "7eee7e92-80b6-41a3-a78b-65377879a01a",
   "metadata": {
    "editable": true,
    "slideshow": {
     "slide_type": ""
    },
    "tags": []
   },
   "source": [
    "The goal of this tutorial is to provide a set of examples that illustrate the main concepts and features of the API. Basic familiarity with Python is assumed. Comprehensive documentation is available at https://pdgapi.lbl.gov/doc/"
   ]
  },
  {
   "cell_type": "markdown",
   "id": "ffa51a4c-7f91-4790-9304-7df360d09d18",
   "metadata": {
    "editable": true,
    "slideshow": {
     "slide_type": ""
    },
    "tags": []
   },
   "source": [
    "## Installation"
   ]
  },
  {
   "attachments": {},
   "cell_type": "markdown",
   "id": "5d180d5c-5700-4c1a-b457-9cac0cde45f4",
   "metadata": {
    "editable": true,
    "slideshow": {
     "slide_type": ""
    },
    "tags": []
   },
   "source": [
    "First, create a virtual environment and activate it:\n",
    "\n",
    "```bash\n",
    "python -m venv ~/pdg.venv\n",
    "source ~/pdg.venv/bin/activate\n",
    "```\n",
    "\n",
    "This ensures that any dependencies will be installed in a self-contained environment.\n",
    "\n",
    "Now install the package:\n",
    "\n",
    "```bash\n",
    "pip install pdg\n",
    "```\n",
    "\n",
    "In order to run the examples in this notebook, some additional packages are required:\n",
    "\n",
    "```bash\n",
    "pip install numpy matplotlib jupyter\n",
    "```\n",
    "\n",
    "You can now launch a Jupyter session (`jupyter lab`) and open this notebook."
   ]
  },
  {
   "cell_type": "markdown",
   "id": "ab85870a-0137-4591-992b-21631004423f",
   "metadata": {
    "editable": true,
    "slideshow": {
     "slide_type": ""
    },
    "tags": []
   },
   "source": [
    "## Preamble"
   ]
  },
  {
   "cell_type": "markdown",
   "id": "c22c9942-6a68-4ce9-947d-d7dc1d9be065",
   "metadata": {
    "editable": true,
    "slideshow": {
     "slide_type": ""
    },
    "tags": []
   },
   "source": [
    "The examples that follow all assume that the following preamble has been run:"
   ]
  },
  {
   "cell_type": "code",
   "execution_count": 1,
   "id": "117544ec-3770-4b6d-ae36-69d9bd60e0ec",
   "metadata": {
    "editable": true,
    "slideshow": {
     "slide_type": ""
    },
    "tags": []
   },
   "outputs": [],
   "source": [
    "import pdg\n",
    "from pdg.particle import PdgParticle\n",
    "import matplotlib.pyplot as plt\n",
    "import numpy as np\n",
    "\n",
    "api = pdg.connect()"
   ]
  },
  {
   "cell_type": "markdown",
   "id": "abf982fa-a7e6-4114-b4bc-333a20cbcaa9",
   "metadata": {
    "editable": true,
    "slideshow": {
     "slide_type": ""
    },
    "tags": []
   },
   "source": [
    "## Concepts "
   ]
  },
  {
   "cell_type": "markdown",
   "id": "21c4e868-9e32-4b19-8c27-57c6ed0162cf",
   "metadata": {
    "editable": true,
    "slideshow": {
     "slide_type": ""
    },
    "tags": []
   },
   "source": [
    "Here we quickly cover some of the basic concepts that apply to the API. Further details can be found in the documentation."
   ]
  },
  {
   "cell_type": "markdown",
   "id": "f3715c0e-56c9-4e72-ade4-90cd2b3a5c27",
   "metadata": {
    "editable": true,
    "slideshow": {
     "slide_type": ""
    },
    "tags": []
   },
   "source": [
    "### Editions"
   ]
  },
  {
   "cell_type": "markdown",
   "id": "f73587c8-c6c7-4c73-8ea7-d5ae6c6f4de8",
   "metadata": {
    "editable": true,
    "slideshow": {
     "slide_type": ""
    },
    "tags": []
   },
   "source": [
    "There are multiple editions of the PDG database corresponding to the (bi)annual PDG releases. There is also a `pdgall.sqlite` containing data from all historical editions. These databases can be downloaded from the PDG website and provided to the `pdg.connect` function. The default behavior is to use the 2024 database included with the package."
   ]
  },
  {
   "cell_type": "markdown",
   "id": "8c158028-c17a-439b-af87-dc63c7f09b9e",
   "metadata": {
    "editable": true,
    "slideshow": {
     "slide_type": ""
    },
    "tags": []
   },
   "source": [
    "### PDG IDs"
   ]
  },
  {
   "cell_type": "markdown",
   "id": "e18ef417-51c0-444e-850a-841fbfc27a9e",
   "metadata": {
    "editable": true,
    "slideshow": {
     "slide_type": ""
    },
    "tags": []
   },
   "source": [
    "*PDG IDs* are used to to identify particles, properties of particles, and other quantities of interest. PDG IDs can have parent PDG IDs; for example, the parent PDG ID for a particle's mass will be the PDG ID of the particle itself. Top-level PDG IDs, such as those of particles, generally take the form of a letter followed by three digits. The PDG ID for a particle property takes the form of the parent PDG ID, a period, then some digits. A specific edition can be appended with a slash.\n",
    "\n",
    "Unlike Monte Carlo IDs, which always identify specific states, a PDG ID can represent multiple states from a multiplet."
   ]
  },
  {
   "cell_type": "markdown",
   "id": "d9c05c47-bb35-4aa3-9606-c80e0d797f1a",
   "metadata": {
    "editable": true,
    "slideshow": {
     "slide_type": ""
    },
    "tags": []
   },
   "source": [
    "#### The `get` function"
   ]
  },
  {
   "cell_type": "markdown",
   "id": "c9a1f4e7-ec7c-47d5-a9ec-04c173c6c58e",
   "metadata": {
    "editable": true,
    "slideshow": {
     "slide_type": ""
    },
    "tags": []
   },
   "source": [
    "The `api.get` function can be passed any PDG ID and will return an instance of the `PdgData` class or one of its subclasses (`PdgParticle`, `PdgMass`, etc.), depending on the type of data associated with the PDG ID."
   ]
  },
  {
   "cell_type": "markdown",
   "id": "45dedc6c-ed0a-4b7c-bfd8-80fb2b3418c2",
   "metadata": {
    "editable": true,
    "slideshow": {
     "slide_type": ""
    },
    "tags": []
   },
   "source": [
    "### Monte Carlo IDs "
   ]
  },
  {
   "cell_type": "markdown",
   "id": "eef067e4-94ce-4a89-953f-a1532ba380ec",
   "metadata": {
    "editable": true,
    "slideshow": {
     "slide_type": ""
    },
    "tags": []
   },
   "source": [
    "Monte Carlo IDs (oftened called \"PDG IDs\" in the community) are used in MC generators and always identify specific states."
   ]
  },
  {
   "cell_type": "markdown",
   "id": "64d94c34-5e7d-4e62-a5c5-c227e064f0af",
   "metadata": {
    "editable": true,
    "slideshow": {
     "slide_type": ""
    },
    "tags": []
   },
   "source": [
    "### Summary table values "
   ]
  },
  {
   "cell_type": "markdown",
   "id": "06bb5681-4bb2-4866-ad56-7cf5767111c7",
   "metadata": {
    "editable": true,
    "slideshow": {
     "slide_type": ""
    },
    "tags": []
   },
   "source": [
    "Measured quantities, such as particle properties, are summarized by the PDG in *summary tables*, which list the PDG's evaluation (e.g. an average or fit) of the quantity based on measurements in the literature. The individual measurements are listed in *listings*. Currently, the API provides access to summary table values. Support for the listings will be added in the future."
   ]
  },
  {
   "cell_type": "markdown",
   "id": "a272671b-79f5-4564-8b83-16b5968f0be7",
   "metadata": {
    "editable": true,
    "slideshow": {
     "slide_type": ""
    },
    "tags": []
   },
   "source": [
    "A given PDG ID may have multiple summary table values, corresponding, for example, to different measurement techniques."
   ]
  },
  {
   "cell_type": "markdown",
   "id": "59c66481-203e-4a72-82d7-19c288f963eb",
   "metadata": {
    "editable": true,
    "slideshow": {
     "slide_type": ""
    },
    "tags": []
   },
   "source": [
    "#### Parent PDG IDs "
   ]
  },
  {
   "cell_type": "markdown",
   "id": "adb6eea9-c2b8-4476-ba56-602312590f69",
   "metadata": {
    "editable": true,
    "slideshow": {
     "slide_type": ""
    },
    "tags": []
   },
   "source": [
    "A particle property listed in the summary tables will have the particle itself as its parent PDG ID."
   ]
  },
  {
   "cell_type": "markdown",
   "id": "b72d2cb1-7099-48bb-82cf-0dfafc33a753",
   "metadata": {
    "editable": true,
    "slideshow": {
     "slide_type": ""
    },
    "tags": []
   },
   "source": [
    "#### Sort order"
   ]
  },
  {
   "cell_type": "markdown",
   "id": "d19a6bb6-973b-41fe-8850-c9870a7a2728",
   "metadata": {
    "editable": true,
    "slideshow": {
     "slide_type": ""
    },
    "tags": []
   },
   "source": [
    "Quantities may have multiple summary table values, in which case the database specifies their ordering."
   ]
  },
  {
   "cell_type": "markdown",
   "id": "07e2976a-69cc-4784-8e9e-334627992518",
   "metadata": {
    "editable": true,
    "slideshow": {
     "slide_type": ""
    },
    "tags": []
   },
   "source": [
    "#### \"Best\" properties and summaries"
   ]
  },
  {
   "cell_type": "markdown",
   "id": "6bb6b5ca-82cd-4773-9ba0-e87e0ba23fb4",
   "metadata": {
    "editable": true,
    "slideshow": {
     "slide_type": ""
    },
    "tags": []
   },
   "source": [
    "When multiple PDG IDs are available for, e.g., a particle's mass, the API will provide the \"best\" one when using simple properties such as `PdgParticle.mass`. The \"best\" one is the one that comes first in the sort order, after filtering out those that apply to other charge states, etc.\n",
    "\n",
    "Similarly, when multiple summary values are available for a given PDG ID, the API will default to the first one that comes first in the sort order.\n",
    "\n",
    "In \"pedantic\" mode, the user is required to choose a PDG ID and/or summary value when multiple options are available."
   ]
  },
  {
   "cell_type": "markdown",
   "id": "47e33b03-50c7-4fff-924a-e01cbf9a120a",
   "metadata": {
    "editable": true,
    "slideshow": {
     "slide_type": ""
    },
    "tags": []
   },
   "source": [
    "### Items and their mappings"
   ]
  },
  {
   "cell_type": "markdown",
   "id": "d3031b48-d0dd-4c77-8df1-d9f8688e23c1",
   "metadata": {
    "editable": true,
    "slideshow": {
     "slide_type": ""
    },
    "tags": []
   },
   "source": [
    "Decays may be expressed in terms of \"generic\" particles: pions, leptons, etc. More generally, every \"thing\" in a decay is a *PDG item*. Some items correspond to specific particle states (MC IDs), while others correspond to other (specific) items, either mapping to one particular item (a *shortcut* or *alias*) or mapping to multiple (a *generic* item). The database defines this map between items. "
   ]
  },
  {
   "cell_type": "markdown",
   "id": "b70f5371-96e7-40fb-bc2f-d626ee303e06",
   "metadata": {
    "editable": true,
    "slideshow": {
     "slide_type": ""
    },
    "tags": []
   },
   "source": [
    "## Exercises"
   ]
  },
  {
   "cell_type": "markdown",
   "id": "4e5c0935-3638-4a8f-bb74-2d6717d5ad84",
   "metadata": {
    "editable": true,
    "slideshow": {
     "slide_type": ""
    },
    "tags": []
   },
   "source": [
    "### Getting a particle"
   ]
  },
  {
   "cell_type": "markdown",
   "id": "701a1654-8293-442d-8844-da4df504a6c0",
   "metadata": {
    "editable": true,
    "slideshow": {
     "slide_type": ""
    },
    "tags": []
   },
   "source": [
    "Particles are represented by the `PdgParticle` class. There are multiple ways to get a particle from the API. Depending on the method, the result can be a `PdgParticleList`, a Python list of `PdgParticle`s, or a specific `PdgParticle`."
   ]
  },
  {
   "cell_type": "markdown",
   "id": "c03f5fb9-68d7-4a23-8bb3-78e07d5a07b3",
   "metadata": {
    "editable": true,
    "slideshow": {
     "slide_type": ""
    },
    "tags": []
   },
   "source": [
    "#### By name"
   ]
  },
  {
   "cell_type": "markdown",
   "id": "01f21dd4-77ad-4273-9bed-3caf7baae580",
   "metadata": {
    "editable": true,
    "slideshow": {
     "slide_type": ""
    },
    "tags": []
   },
   "source": [
    "A particle name can refer to a single particle or to a group of them. The function `get_particle_by_name` will return a `PdgParticle` if there's a unique match, and will raise an exception if not. The function `get_particles_by_name` always returns a list of `PdgParticles`. Aliases will automatically be resolved."
   ]
  },
  {
   "cell_type": "code",
   "execution_count": 2,
   "id": "c8e1cb3e-e134-4981-a3e7-22c7aaed47ed",
   "metadata": {
    "editable": true,
    "slideshow": {
     "slide_type": ""
    },
    "tags": []
   },
   "outputs": [
    {
     "data": {
      "text/plain": [
       "PdgParticle('S008/2024', name='pi+')"
      ]
     },
     "execution_count": 2,
     "metadata": {},
     "output_type": "execute_result"
    }
   ],
   "source": [
    "api.get_particle_by_name('pi+')"
   ]
  },
  {
   "cell_type": "code",
   "execution_count": 3,
   "id": "44558c04-f71d-4c0b-bbc5-f42ad79b06f9",
   "metadata": {
    "editable": true,
    "slideshow": {
     "slide_type": ""
    },
    "tags": []
   },
   "outputs": [
    {
     "data": {
      "text/plain": [
       "[PdgParticle('S008/2024', name='pi-'),\n",
       " PdgParticle('S009/2024', name='pi0'),\n",
       " PdgParticle('S008/2024', name='pi+')]"
      ]
     },
     "execution_count": 3,
     "metadata": {},
     "output_type": "execute_result"
    }
   ],
   "source": [
    "api.get_particles_by_name('pi')"
   ]
  },
  {
   "cell_type": "code",
   "execution_count": 4,
   "id": "f79d6de5-2a30-4e44-8e5c-fe920dd11eed",
   "metadata": {
    "editable": true,
    "slideshow": {
     "slide_type": ""
    },
    "tags": []
   },
   "outputs": [
    {
     "data": {
      "text/plain": [
       "[PdgParticle('S017/2024', name='n'),\n",
       " PdgParticle('S016/2024', name='p'),\n",
       " PdgParticle('S017/2024', name='nbar'),\n",
       " PdgParticle('S016/2024', name='pbar')]"
      ]
     },
     "execution_count": 4,
     "metadata": {},
     "output_type": "execute_result"
    }
   ],
   "source": [
    "api.get_particles_by_name('N')"
   ]
  },
  {
   "cell_type": "code",
   "execution_count": 5,
   "id": "5cffa9ef-d762-461a-9605-dc4d10bc57dc",
   "metadata": {
    "editable": true,
    "scrolled": true,
    "slideshow": {
     "slide_type": ""
    },
    "tags": []
   },
   "outputs": [
    {
     "data": {
      "text/plain": [
       "[PdgParticle('B130/2024', name='Xi_c(2970)0'),\n",
       " PdgParticle('B130/2024', name='Xibar_c(2970)0')]"
      ]
     },
     "execution_count": 5,
     "metadata": {},
     "output_type": "execute_result"
    }
   ],
   "source": [
    "api.get_particles_by_name('Xi_c(2980)')"
   ]
  },
  {
   "cell_type": "code",
   "execution_count": 6,
   "id": "32bbf7ec-e3e8-428a-893b-13ff81a20016",
   "metadata": {
    "editable": true,
    "slideshow": {
     "slide_type": ""
    },
    "tags": []
   },
   "outputs": [
    {
     "data": {
      "text/plain": [
       "[PdgParticle('B130/2024', name='Xi_c(2970)0'),\n",
       " PdgParticle('B130/2024', name='Xibar_c(2970)0')]"
      ]
     },
     "execution_count": 6,
     "metadata": {},
     "output_type": "execute_result"
    }
   ],
   "source": [
    "api.get_particles_by_name('Xi_c(2970)')"
   ]
  },
  {
   "cell_type": "markdown",
   "id": "a1ea5e72-01e6-46c2-b251-5e6b090ed8de",
   "metadata": {
    "editable": true,
    "slideshow": {
     "slide_type": ""
    },
    "tags": []
   },
   "source": [
    "#### By MC ID"
   ]
  },
  {
   "cell_type": "markdown",
   "id": "61d559ef-e94b-4ee2-b326-66974a6baa39",
   "metadata": {
    "editable": true,
    "slideshow": {
     "slide_type": ""
    },
    "tags": []
   },
   "source": [
    "Since MC IDs are unambiguous, `get_particle_by_mcid` returns a `PdgParticle` directly."
   ]
  },
  {
   "cell_type": "code",
   "execution_count": 7,
   "id": "b3ec7950-ca05-47dc-9cb9-a60882101e69",
   "metadata": {
    "editable": true,
    "slideshow": {
     "slide_type": ""
    },
    "tags": []
   },
   "outputs": [
    {
     "data": {
      "text/plain": [
       "PdgParticle('S016/2024', name='p')"
      ]
     },
     "execution_count": 7,
     "metadata": {},
     "output_type": "execute_result"
    }
   ],
   "source": [
    "api.get_particle_by_mcid(2212)"
   ]
  },
  {
   "cell_type": "markdown",
   "id": "2e106506-910a-470e-85f6-26c784b16a03",
   "metadata": {
    "editable": true,
    "slideshow": {
     "slide_type": ""
    },
    "tags": []
   },
   "source": [
    "#### By PDG ID"
   ]
  },
  {
   "cell_type": "markdown",
   "id": "9867f296-169e-4a0d-8fc2-fc0f4e95a37a",
   "metadata": {
    "editable": true,
    "slideshow": {
     "slide_type": ""
    },
    "tags": []
   },
   "source": [
    "The `get` function, given a particle's PDG ID, returns a list of all associated particles. Since `get` must return an instance of a `PdgData` subclass, the return type is a `PdgParticleList`, rather than a simple list of `PdgParticle`s (as returned by `get_particles_by_name`). "
   ]
  },
  {
   "cell_type": "code",
   "execution_count": 8,
   "id": "1cba7312-ae7c-4024-b455-3d93610e6d56",
   "metadata": {
    "editable": true,
    "slideshow": {
     "slide_type": ""
    },
    "tags": []
   },
   "outputs": [
    {
     "data": {
      "text/plain": [
       "PdgParticleList('S008/2024')"
      ]
     },
     "execution_count": 8,
     "metadata": {},
     "output_type": "execute_result"
    }
   ],
   "source": [
    "api.get('S008/2024')"
   ]
  },
  {
   "cell_type": "markdown",
   "id": "0354400c-e5ca-45c5-abf6-f527fcf94289",
   "metadata": {
    "editable": true,
    "slideshow": {
     "slide_type": ""
    },
    "tags": []
   },
   "source": [
    "However, a simple list is simple to get:"
   ]
  },
  {
   "cell_type": "code",
   "execution_count": 9,
   "id": "5bb0998d-ebb3-4fdd-8ece-ee155a3cf91c",
   "metadata": {
    "editable": true,
    "slideshow": {
     "slide_type": ""
    },
    "tags": []
   },
   "outputs": [
    {
     "data": {
      "text/plain": [
       "[PdgParticle('S008/2024', name='pi+'), PdgParticle('S008/2024', name='pi-')]"
      ]
     },
     "execution_count": 9,
     "metadata": {},
     "output_type": "execute_result"
    }
   ],
   "source": [
    "list(_)"
   ]
  },
  {
   "cell_type": "markdown",
   "id": "4839f022-9b67-4af8-b7f5-2053bd6a21c4",
   "metadata": {
    "editable": true,
    "slideshow": {
     "slide_type": ""
    },
    "tags": []
   },
   "source": [
    "A `PdgParticle` can also be instantiated directly."
   ]
  },
  {
   "cell_type": "code",
   "execution_count": 10,
   "id": "423e0748-db6c-4d32-9ed7-d7f59acc1ad3",
   "metadata": {
    "editable": true,
    "slideshow": {
     "slide_type": ""
    },
    "tags": []
   },
   "outputs": [
    {
     "data": {
      "text/plain": [
       "PdgParticle('S009/2024', name='pi0')"
      ]
     },
     "execution_count": 10,
     "metadata": {},
     "output_type": "execute_result"
    }
   ],
   "source": [
    "PdgParticle(api, 'S009/2024')"
   ]
  },
  {
   "cell_type": "markdown",
   "id": "aac02adb-e225-4f96-ae3a-d7c1ddd88a3c",
   "metadata": {
    "editable": true,
    "slideshow": {
     "slide_type": ""
    },
    "tags": []
   },
   "source": [
    "When a PDG ID refers to more than one specific state, either `set_name` or `set_mcid` must be passed."
   ]
  },
  {
   "cell_type": "code",
   "execution_count": 11,
   "id": "0e5d1968-e1ef-4953-95bc-c6196110e0c0",
   "metadata": {
    "editable": true,
    "slideshow": {
     "slide_type": ""
    },
    "tags": []
   },
   "outputs": [
    {
     "data": {
      "text/plain": [
       "PdgParticle('S008/2024', name='pi-')"
      ]
     },
     "execution_count": 11,
     "metadata": {},
     "output_type": "execute_result"
    }
   ],
   "source": [
    "PdgParticle(api, 'S008/2024', set_name='pi-')"
   ]
  },
  {
   "cell_type": "markdown",
   "id": "0c039107-e938-4e3e-954b-d1d89fd7d55b",
   "metadata": {
    "editable": true,
    "slideshow": {
     "slide_type": ""
    },
    "tags": []
   },
   "source": [
    "### Getting basic properties"
   ]
  },
  {
   "cell_type": "markdown",
   "id": "1ad6c8ac-6fb4-4286-9d74-32e1f9c4d6af",
   "metadata": {
    "editable": true,
    "slideshow": {
     "slide_type": ""
    },
    "tags": []
   },
   "source": [
    "Some properties (quantum numbers) are associated directly with a `PdgParticle`."
   ]
  },
  {
   "cell_type": "code",
   "execution_count": 12,
   "id": "835a072a-7676-497d-8ec3-d7fa67f0d4e6",
   "metadata": {
    "editable": true,
    "slideshow": {
     "slide_type": ""
    },
    "tags": []
   },
   "outputs": [
    {
     "data": {
      "text/plain": [
       "(0.0, '1', '-', '0', '-', '+')"
      ]
     },
     "execution_count": 12,
     "metadata": {},
     "output_type": "execute_result"
    }
   ],
   "source": [
    "p = api.get_particle_by_name('pi0')\n",
    "p.charge, p.quantum_I, p.quantum_G, p.quantum_J, p.quantum_P, p.quantum_C"
   ]
  },
  {
   "cell_type": "code",
   "execution_count": 13,
   "id": "f9a78c7e-9f7d-4b74-8de5-5abb12b4413a",
   "metadata": {
    "editable": true,
    "slideshow": {
     "slide_type": ""
    },
    "tags": []
   },
   "outputs": [
    {
     "data": {
      "text/plain": [
       "(1.0, '1', '-', '0', '-', None)"
      ]
     },
     "execution_count": 13,
     "metadata": {},
     "output_type": "execute_result"
    }
   ],
   "source": [
    "p = api.get_particle_by_name('pi+')\n",
    "p.charge, p.quantum_I, p.quantum_G, p.quantum_J, p.quantum_P, p.quantum_C"
   ]
  },
  {
   "cell_type": "code",
   "execution_count": 14,
   "id": "f65fdd6f-c679-4ab7-a9c9-5d707bec0f3f",
   "metadata": {
    "editable": true,
    "slideshow": {
     "slide_type": ""
    },
    "tags": []
   },
   "outputs": [
    {
     "data": {
      "text/plain": [
       "(0.0, '0,1', None, '1', '-', '-')"
      ]
     },
     "execution_count": 14,
     "metadata": {},
     "output_type": "execute_result"
    }
   ],
   "source": [
    "p = api.get_particle_by_name('gamma')\n",
    "p.charge, p.quantum_I, p.quantum_G, p.quantum_J, p.quantum_P, p.quantum_C"
   ]
  },
  {
   "cell_type": "code",
   "execution_count": 15,
   "id": "ef08b515-0f90-45d9-9368-30b43229bf05",
   "metadata": {
    "editable": true,
    "slideshow": {
     "slide_type": ""
    },
    "tags": []
   },
   "outputs": [
    {
     "data": {
      "text/plain": [
       "(0.0, '0', '+', '0', '-', '+')"
      ]
     },
     "execution_count": 15,
     "metadata": {},
     "output_type": "execute_result"
    }
   ],
   "source": [
    "p = api.get_particle_by_name('eta')\n",
    "p.charge, p.quantum_I, p.quantum_G, p.quantum_J, p.quantum_P, p.quantum_C"
   ]
  },
  {
   "cell_type": "markdown",
   "id": "8024becf-ff22-45c0-bc57-a67f2fbc06ec",
   "metadata": {
    "editable": true,
    "slideshow": {
     "slide_type": ""
    },
    "tags": []
   },
   "source": [
    "### Getting masses, widths, lifetimes"
   ]
  },
  {
   "cell_type": "markdown",
   "id": "91706e59-902b-485e-86cd-35c4d44b2ce2",
   "metadata": {
    "editable": true,
    "slideshow": {
     "slide_type": ""
    },
    "tags": []
   },
   "source": [
    "Masses, widths, and lifetimes are some of the particle properties that have their own PDG IDs. In some cases there may be multiple masses (or widths or lifetimes) for a given particle, corresponding, for example, to different measurement techniques."
   ]
  },
  {
   "cell_type": "markdown",
   "id": "7aeb01c3-4398-47e6-a7e1-27ce4526247c",
   "metadata": {
    "editable": true,
    "slideshow": {
     "slide_type": ""
    },
    "tags": []
   },
   "source": [
    "For convenience, the `mass`, `width`, and `lifetime` properties of a `PdgParticle` can be used to get the \"best\" summary value. Widths and lifetimes are automatically interconverted when necessary. The full sets of summary values, as `PdgProperty` (subclass) objects, via the `masses`, `widths`, and `lifetimes` methods."
   ]
  },
  {
   "cell_type": "code",
   "execution_count": 16,
   "id": "75c9808e-9f6f-4565-b6d4-21841ad785e6",
   "metadata": {
    "editable": true,
    "slideshow": {
     "slide_type": ""
    },
    "tags": []
   },
   "outputs": [
    {
     "data": {
      "text/plain": [
       "((0.13957039098368132, [PdgMass('S008M/2024')]),\n",
       " (2.5283166082854054e-17, []),\n",
       " (2.603313199949126e-08, [PdgLifetime('S008T/2024')]))"
      ]
     },
     "execution_count": 16,
     "metadata": {},
     "output_type": "execute_result"
    }
   ],
   "source": [
    "p = api.get_particle_by_name('pi+')\n",
    "\n",
    "(p.mass, list(p.masses())), (p.width, list(p.widths())), (p.lifetime, list(p.lifetimes()))"
   ]
  },
  {
   "cell_type": "markdown",
   "id": "8be834b1-e84c-41d7-a676-a78209c93026",
   "metadata": {},
   "source": [
    "TODO: Clarify that PdgProperty.mass,width,lifetime always gives you GeV etc., but PdgMass etc may be encoded in any units. Show the generic way first, and then the shortcut that is fixed to a given unit."
   ]
  },
  {
   "cell_type": "code",
   "execution_count": 54,
   "id": "73a5c696-f219-4cc7-898c-8fd33beb8248",
   "metadata": {},
   "outputs": [],
   "source": [
    "m = api.get('S008M')"
   ]
  },
  {
   "cell_type": "code",
   "execution_count": 55,
   "id": "2acac57a-03d0-43a6-a990-2131a2602d48",
   "metadata": {},
   "outputs": [
    {
     "data": {
      "text/plain": [
       "139.5703909836813"
      ]
     },
     "execution_count": 55,
     "metadata": {},
     "output_type": "execute_result"
    }
   ],
   "source": [
    "m.best_summary().value"
   ]
  },
  {
   "cell_type": "code",
   "execution_count": 56,
   "id": "51a8722c-9558-43a3-954d-6daa83d96cba",
   "metadata": {},
   "outputs": [
    {
     "data": {
      "text/plain": [
       "'MeV'"
      ]
     },
     "execution_count": 56,
     "metadata": {},
     "output_type": "execute_result"
    }
   ],
   "source": [
    "m.best_summary().units"
   ]
  },
  {
   "cell_type": "code",
   "execution_count": 17,
   "id": "e96cda2b-8ec1-4fce-82d6-4277e1195b78",
   "metadata": {
    "editable": true,
    "slideshow": {
     "slide_type": ""
    },
    "tags": []
   },
   "outputs": [
    {
     "data": {
      "text/plain": [
       "((0.1349768277676847, [PdgMass('S009M/2024')]),\n",
       " (7.811987971364424e-09, []),\n",
       " (8.425512205250367e-17, [PdgLifetime('S009T/2024')]))"
      ]
     },
     "execution_count": 17,
     "metadata": {},
     "output_type": "execute_result"
    }
   ],
   "source": [
    "p = api.get_particle_by_name('pi0')\n",
    "\n",
    "(p.mass, list(p.masses())), (p.width, list(p.widths())), (p.lifetime, list(p.lifetimes()))"
   ]
  },
  {
   "cell_type": "code",
   "execution_count": 18,
   "id": "4c4f6fc6-8e77-4b0a-87b1-ef117a797e5c",
   "metadata": {
    "editable": true,
    "slideshow": {
     "slide_type": ""
    },
    "tags": []
   },
   "outputs": [
    {
     "data": {
      "text/plain": [
       "((1e-27, [PdgMass('S000M/2024')]), (0.0, []), (inf, []))"
      ]
     },
     "execution_count": 18,
     "metadata": {},
     "output_type": "execute_result"
    }
   ],
   "source": [
    "p = api.get_particle_by_name('gamma')\n",
    "\n",
    "(p.mass, list(p.masses())), (p.width, list(p.widths())), (p.lifetime, list(p.lifetimes()))"
   ]
  },
  {
   "cell_type": "code",
   "execution_count": 19,
   "id": "a5e3bc0b-d562-422b-b932-e97dba2fb803",
   "metadata": {
    "editable": true,
    "slideshow": {
     "slide_type": ""
    },
    "tags": []
   },
   "outputs": [
    {
     "data": {
      "text/plain": [
       "((172.5746930968864,\n",
       "  [PdgMass('Q007TP/2024'), PdgMass('Q007TP2/2024'), PdgMass('Q007TP4/2024')]),\n",
       " (1.424101758196898, [PdgWidth('Q007W/2024')]),\n",
       " (4.621860735804221e-25, []))"
      ]
     },
     "execution_count": 19,
     "metadata": {},
     "output_type": "execute_result"
    }
   ],
   "source": [
    "p = api.get_particle_by_name('t')\n",
    "\n",
    "(p.mass, list(p.masses())), (p.width, list(p.widths())), (p.lifetime, list(p.lifetimes()))"
   ]
  },
  {
   "cell_type": "markdown",
   "id": "b950d363-b35f-4b62-a14b-3750dbe554d2",
   "metadata": {},
   "source": [
    "TODO: Talk about PdgParticle.mass_error, etc."
   ]
  },
  {
   "cell_type": "markdown",
   "id": "95ab1280-5785-434b-b8d8-f3d4196bc071",
   "metadata": {
    "editable": true,
    "slideshow": {
     "slide_type": ""
    },
    "tags": []
   },
   "source": [
    "### Getting limits on things"
   ]
  },
  {
   "cell_type": "markdown",
   "id": "049cd518-9b2d-49d8-8f13-da122d8477b3",
   "metadata": {
    "editable": true,
    "slideshow": {
     "slide_type": ""
    },
    "tags": []
   },
   "source": [
    "Using a basic accessor such as `PdgParticle.mass` will return a value without indicating whether that value is a limit or a measurement. The full `PdgProperty` can be used to get the `PdgSummaryValue` objects that provide this additional information."
   ]
  },
  {
   "cell_type": "code",
   "execution_count": 57,
   "id": "67713e8d-57a0-4480-a6e6-0a83c18bbf27",
   "metadata": {
    "editable": true,
    "slideshow": {
     "slide_type": ""
    },
    "tags": []
   },
   "outputs": [
    {
     "data": {
      "text/plain": [
       "(1e-27, None)"
      ]
     },
     "execution_count": 57,
     "metadata": {},
     "output_type": "execute_result"
    }
   ],
   "source": [
    "p = api.get_particle_by_name('gamma')\n",
    "p.mass, p.mass_error"
   ]
  },
  {
   "cell_type": "markdown",
   "id": "84f23a90-d845-4ffc-87c8-ef6541eec918",
   "metadata": {},
   "source": [
    "TODO: If number is a limit, return None?"
   ]
  },
  {
   "cell_type": "code",
   "execution_count": 21,
   "id": "2ebd9f33-caca-4bdd-b645-105c67e8cc7a",
   "metadata": {
    "editable": true,
    "slideshow": {
     "slide_type": ""
    },
    "tags": []
   },
   "outputs": [
    {
     "data": {
      "text/plain": [
       "PdgMass('S000M/2024')"
      ]
     },
     "execution_count": 21,
     "metadata": {},
     "output_type": "execute_result"
    }
   ],
   "source": [
    "m = list(p.masses())[0]\n",
    "\n",
    "m"
   ]
  },
  {
   "cell_type": "code",
   "execution_count": 22,
   "id": "1e70de27-a67c-4e1e-8299-127fd9c87c18",
   "metadata": {
    "editable": true,
    "slideshow": {
     "slide_type": ""
    },
    "tags": []
   },
   "outputs": [
    {
     "data": {
      "text/plain": [
       "[{'id': 1020000,\n",
       "  'pdgid_id': 1,\n",
       "  'pdgid': 'S000M',\n",
       "  'edition': '2024',\n",
       "  'value_type': 'L',\n",
       "  'in_summary_table': True,\n",
       "  'confidence_level': None,\n",
       "  'limit_type': 'U',\n",
       "  'comment': None,\n",
       "  'value': 1e-18,\n",
       "  'error_positive': 0.0,\n",
       "  'error_negative': 0.0,\n",
       "  'scale_factor': None,\n",
       "  'unit_text': 'eV',\n",
       "  'display_value_text': '<1E-18',\n",
       "  'display_power_of_ten': 0,\n",
       "  'display_in_percent': False,\n",
       "  'sort': 1,\n",
       "  'description': 'gamma MASS'}]"
      ]
     },
     "execution_count": 22,
     "metadata": {},
     "output_type": "execute_result"
    }
   ],
   "source": [
    "m.summary_values()"
   ]
  },
  {
   "cell_type": "code",
   "execution_count": 23,
   "id": "61c0a51d-300b-4ecf-9eee-06fd723b12eb",
   "metadata": {
    "editable": true,
    "slideshow": {
     "slide_type": ""
    },
    "tags": []
   },
   "outputs": [
    {
     "data": {
      "text/plain": [
       "('BEST LIMIT', True, True, False)"
      ]
     },
     "execution_count": 23,
     "metadata": {},
     "output_type": "execute_result"
    }
   ],
   "source": [
    "summary = m.best_summary()\n",
    "summary.value_type, summary.is_limit, summary.is_upper_limit, summary.is_lower_limit"
   ]
  },
  {
   "cell_type": "markdown",
   "id": "d2ff6d3e-a3f2-49e9-971e-c976474b6161",
   "metadata": {
    "editable": true,
    "slideshow": {
     "slide_type": ""
    },
    "tags": []
   },
   "source": [
    "### Getting a particle's decays"
   ]
  },
  {
   "cell_type": "code",
   "execution_count": 24,
   "id": "5f07077f-49ef-45f7-a3f2-b7adf342ec2e",
   "metadata": {
    "editable": true,
    "slideshow": {
     "slide_type": ""
    },
    "tags": []
   },
   "outputs": [],
   "source": [
    "p = api.get_particle_by_name('pi+')"
   ]
  },
  {
   "cell_type": "markdown",
   "id": "73fe6422-db77-4af4-b2af-7e76507deb59",
   "metadata": {},
   "source": [
    "NOTE: Show `branching_fractions` first, then inclusive/exclusive."
   ]
  },
  {
   "cell_type": "code",
   "execution_count": 25,
   "id": "0582310e-c9a4-45d7-b14b-4edec3735f20",
   "metadata": {
    "editable": true,
    "slideshow": {
     "slide_type": ""
    },
    "tags": []
   },
   "outputs": [
    {
     "data": {
      "text/plain": [
       "[]"
      ]
     },
     "execution_count": 25,
     "metadata": {},
     "output_type": "execute_result"
    }
   ],
   "source": [
    "list(p.inclusive_branching_fractions())"
   ]
  },
  {
   "cell_type": "code",
   "execution_count": 26,
   "id": "5f5dcdab-2876-4e74-9482-78b8341f4d43",
   "metadata": {
    "editable": true,
    "slideshow": {
     "slide_type": ""
    },
    "tags": []
   },
   "outputs": [
    {
     "data": {
      "text/plain": [
       "[PdgBranchingFraction('S008.1/2024'),\n",
       " PdgBranchingFraction('S008.2/2024'),\n",
       " PdgBranchingFraction('S008.4/2024'),\n",
       " PdgBranchingFraction('S008.6/2024'),\n",
       " PdgBranchingFraction('S008.11/2024'),\n",
       " PdgBranchingFraction('S008.10/2024'),\n",
       " PdgBranchingFraction('S008.7/2024'),\n",
       " PdgBranchingFraction('S008.8/2024'),\n",
       " PdgBranchingFraction('S008.9/2024')]"
      ]
     },
     "execution_count": 26,
     "metadata": {},
     "output_type": "execute_result"
    }
   ],
   "source": [
    "list(p.exclusive_branching_fractions())"
   ]
  },
  {
   "cell_type": "code",
   "execution_count": 27,
   "id": "7e617a54-9d75-4e6f-ad3f-032217377924",
   "metadata": {
    "editable": true,
    "slideshow": {
     "slide_type": ""
    },
    "tags": []
   },
   "outputs": [],
   "source": [
    "decay = next(p.exclusive_branching_fractions())"
   ]
  },
  {
   "cell_type": "code",
   "execution_count": 28,
   "id": "5bb7c4e5-5b51-423f-b644-ec9c75d96dec",
   "metadata": {
    "editable": true,
    "slideshow": {
     "slide_type": ""
    },
    "tags": []
   },
   "outputs": [
    {
     "data": {
      "text/plain": [
       "PdgBranchingFraction('S008.1/2024')"
      ]
     },
     "execution_count": 28,
     "metadata": {},
     "output_type": "execute_result"
    }
   ],
   "source": [
    "decay"
   ]
  },
  {
   "cell_type": "code",
   "execution_count": 29,
   "id": "2104c0a9-355b-4c59-b616-7f5bd7ce3e4d",
   "metadata": {
    "editable": true,
    "slideshow": {
     "slide_type": ""
    },
    "tags": []
   },
   "outputs": [
    {
     "data": {
      "text/plain": [
       "'pi+ --> mu+ nu_mu'"
      ]
     },
     "execution_count": 29,
     "metadata": {},
     "output_type": "execute_result"
    }
   ],
   "source": [
    "decay.description"
   ]
  },
  {
   "cell_type": "code",
   "execution_count": 30,
   "id": "b73326be-0338-47f5-9154-85427d0f1cee",
   "metadata": {
    "editable": true,
    "slideshow": {
     "slide_type": ""
    },
    "tags": []
   },
   "outputs": [
    {
     "data": {
      "text/plain": [
       "[{'id': 1021202,\n",
       "  'pdgid_id': 1306,\n",
       "  'pdgid': 'S008.1',\n",
       "  'edition': '2024',\n",
       "  'value_type': 'V',\n",
       "  'in_summary_table': True,\n",
       "  'confidence_level': None,\n",
       "  'limit_type': None,\n",
       "  'comment': None,\n",
       "  'value': 99.9877,\n",
       "  'error_positive': 4e-07,\n",
       "  'error_negative': 4e-07,\n",
       "  'scale_factor': None,\n",
       "  'unit_text': '',\n",
       "  'display_value_text': '(99.98770+-0.00004)%',\n",
       "  'display_power_of_ten': 0,\n",
       "  'display_in_percent': False,\n",
       "  'sort': 1,\n",
       "  'description': 'pi+ --> mu+ nu_mu'}]"
      ]
     },
     "execution_count": 30,
     "metadata": {},
     "output_type": "execute_result"
    }
   ],
   "source": [
    "decay.summary_values()"
   ]
  },
  {
   "cell_type": "code",
   "execution_count": 31,
   "id": "0315ffd0-4d9b-4a2b-bacb-6928506acade",
   "metadata": {
    "editable": true,
    "slideshow": {
     "slide_type": ""
    },
    "tags": []
   },
   "outputs": [
    {
     "data": {
      "text/plain": [
       "99.9877"
      ]
     },
     "execution_count": 31,
     "metadata": {},
     "output_type": "execute_result"
    }
   ],
   "source": [
    "decay.value"
   ]
  },
  {
   "cell_type": "markdown",
   "id": "25250e66-9d37-4a2f-9bb2-0935014f3a9b",
   "metadata": {
    "editable": true,
    "slideshow": {
     "slide_type": ""
    },
    "tags": []
   },
   "source": [
    "### Iterating over decay products"
   ]
  },
  {
   "cell_type": "code",
   "execution_count": 32,
   "id": "5066f6ef-be89-4bb4-9cb8-b3d2c520aa88",
   "metadata": {
    "editable": true,
    "slideshow": {
     "slide_type": ""
    },
    "tags": []
   },
   "outputs": [],
   "source": [
    "products = decay.decay_products"
   ]
  },
  {
   "cell_type": "code",
   "execution_count": 33,
   "id": "073f22e2-2fca-41e1-b493-a0d9b6f620f9",
   "metadata": {
    "editable": true,
    "slideshow": {
     "slide_type": ""
    },
    "tags": []
   },
   "outputs": [
    {
     "data": {
      "text/plain": [
       "(PdgItem(\"mu+\"), 1, None)"
      ]
     },
     "execution_count": 33,
     "metadata": {},
     "output_type": "execute_result"
    }
   ],
   "source": [
    "prod = products[0]\n",
    "\n",
    "prod.item, prod.multiplier, prod.subdecay"
   ]
  },
  {
   "cell_type": "code",
   "execution_count": 34,
   "id": "8ddac894-4b33-4883-91f8-31991e66a9d8",
   "metadata": {
    "editable": true,
    "raw_mimetype": "",
    "slideshow": {
     "slide_type": ""
    },
    "tags": []
   },
   "outputs": [
    {
     "data": {
      "text/plain": [
       "PdgParticle('S004/2024', name='mu+')"
      ]
     },
     "execution_count": 34,
     "metadata": {},
     "output_type": "execute_result"
    }
   ],
   "source": [
    "prod.item.particle"
   ]
  },
  {
   "cell_type": "code",
   "execution_count": 35,
   "id": "2dad693f-b522-4643-bcde-d66c41aa16e3",
   "metadata": {
    "editable": true,
    "slideshow": {
     "slide_type": ""
    },
    "tags": []
   },
   "outputs": [
    {
     "data": {
      "text/plain": [
       "(PdgItem(\"nu_mu\"), 1, None)"
      ]
     },
     "execution_count": 35,
     "metadata": {},
     "output_type": "execute_result"
    }
   ],
   "source": [
    "prod = products[1]\n",
    "\n",
    "prod.item, prod.multiplier, prod.subdecay"
   ]
  },
  {
   "cell_type": "code",
   "execution_count": 36,
   "id": "9840aa51-9de9-44b4-a38a-803df729719f",
   "metadata": {
    "editable": true,
    "raw_mimetype": "",
    "slideshow": {
     "slide_type": ""
    },
    "tags": []
   },
   "outputs": [
    {
     "data": {
      "text/plain": [
       "PdgParticle('S002/2024', name='nu_mu')"
      ]
     },
     "execution_count": 36,
     "metadata": {},
     "output_type": "execute_result"
    }
   ],
   "source": [
    "prod.item.particle"
   ]
  },
  {
   "cell_type": "markdown",
   "id": "91879bbb-71b4-4ed8-9459-5b10d7c0c799",
   "metadata": {
    "editable": true,
    "slideshow": {
     "slide_type": ""
    },
    "tags": []
   },
   "source": [
    "TODO: Now show one where there's a generic item where `.particle` fails"
   ]
  },
  {
   "cell_type": "markdown",
   "id": "2cacb823-120f-42fe-a90a-2f892b1d8210",
   "metadata": {
    "editable": true,
    "slideshow": {
     "slide_type": ""
    },
    "tags": []
   },
   "source": [
    "### Getting arbitrary properties"
   ]
  },
  {
   "cell_type": "markdown",
   "id": "1ea059e4-3668-4a65-9baf-b602ae69c419",
   "metadata": {
    "editable": true,
    "slideshow": {
     "slide_type": ""
    },
    "tags": []
   },
   "source": [
    "#### Particle-associated properties"
   ]
  },
  {
   "cell_type": "code",
   "execution_count": 37,
   "id": "f2a4ef8b-5204-498f-ad4b-9d6e9311a7b3",
   "metadata": {
    "editable": true,
    "slideshow": {
     "slide_type": ""
    },
    "tags": []
   },
   "outputs": [
    {
     "data": {
      "text/plain": [
       "('t-Quark Pole Mass from Cross-Section Measurements', 172.3523553288312, 'GeV')"
      ]
     },
     "execution_count": 37,
     "metadata": {},
     "output_type": "execute_result"
    }
   ],
   "source": [
    "v = api.get('Q007TP4')\n",
    "v.description, v.value, v.units"
   ]
  },
  {
   "cell_type": "code",
   "execution_count": 38,
   "id": "735bfa03-f112-4c41-bf2a-425ec71c4403",
   "metadata": {
    "editable": true,
    "slideshow": {
     "slide_type": ""
    },
    "tags": []
   },
   "outputs": [
    {
     "data": {
      "text/plain": [
       "[{'id': 1021134,\n",
       "  'pdgid_id': 1175,\n",
       "  'pdgid': 'Q007TP4',\n",
       "  'edition': '2024',\n",
       "  'value_type': 'AC',\n",
       "  'in_summary_table': True,\n",
       "  'confidence_level': None,\n",
       "  'limit_type': None,\n",
       "  'comment': None,\n",
       "  'value': 172.3523553288312,\n",
       "  'error_positive': 0.6752618288606228,\n",
       "  'error_negative': 0.6432013333753764,\n",
       "  'scale_factor': 1.0,\n",
       "  'unit_text': 'GeV',\n",
       "  'display_value_text': '172.4+-0.7',\n",
       "  'display_power_of_ten': 0,\n",
       "  'display_in_percent': False,\n",
       "  'sort': 1,\n",
       "  'description': 't-Quark Pole Mass from Cross-Section Measurements'}]"
      ]
     },
     "execution_count": 38,
     "metadata": {},
     "output_type": "execute_result"
    }
   ],
   "source": [
    "v.summary_values()"
   ]
  },
  {
   "cell_type": "markdown",
   "id": "f112bb1d-683c-4c94-a3ae-c0a0bb71bef2",
   "metadata": {
    "editable": true,
    "slideshow": {
     "slide_type": ""
    },
    "tags": []
   },
   "source": [
    "#### General properties (i.e. not associated with a single particle)"
   ]
  },
  {
   "cell_type": "markdown",
   "id": "6b130fee-abd4-44d3-981b-12f7da6a08b0",
   "metadata": {
    "editable": true,
    "slideshow": {
     "slide_type": ""
    },
    "tags": []
   },
   "source": [
    "##### Neutrino properties"
   ]
  },
  {
   "cell_type": "markdown",
   "id": "1f88d47f-94c5-4063-a769-1de72ba4a30d",
   "metadata": {
    "editable": true,
    "slideshow": {
     "slide_type": ""
    },
    "tags": []
   },
   "source": [
    "These live under `S066` and `S067`."
   ]
  },
  {
   "cell_type": "code",
   "execution_count": 39,
   "id": "52b94fbb-3b86-4c44-8776-5ce915f8a8f6",
   "metadata": {
    "editable": true,
    "slideshow": {
     "slide_type": ""
    },
    "tags": []
   },
   "outputs": [
    {
     "data": {
      "text/plain": [
       "('sin**2(theta(23))', 0.5529894603427739)"
      ]
     },
     "execution_count": 39,
     "metadata": {},
     "output_type": "execute_result"
    }
   ],
   "source": [
    "v = api.get('S067P23')\n",
    "v.description, v.value"
   ]
  },
  {
   "cell_type": "code",
   "execution_count": 40,
   "id": "98a1e0b9-5500-489a-ae32-151ab8d6bdb8",
   "metadata": {
    "editable": true,
    "slideshow": {
     "slide_type": ""
    },
    "tags": []
   },
   "outputs": [
    {
     "data": {
      "text/plain": [
       "[{'id': 1021101,\n",
       "  'pdgid_id': 1136,\n",
       "  'pdgid': 'S067P23',\n",
       "  'edition': '2024',\n",
       "  'value_type': 'FC',\n",
       "  'in_summary_table': True,\n",
       "  'confidence_level': None,\n",
       "  'limit_type': None,\n",
       "  'comment': 'Assuming inverted mass ordering',\n",
       "  'value': 0.5529894603427739,\n",
       "  'error_positive': 0.01557018799120562,\n",
       "  'error_negative': 0.02376487951333883,\n",
       "  'scale_factor': 1.053519,\n",
       "  'unit_text': '',\n",
       "  'display_value_text': '0.553+0.016-0.024',\n",
       "  'display_power_of_ten': 0,\n",
       "  'display_in_percent': False,\n",
       "  'sort': 1,\n",
       "  'description': 'sin**2(theta(23))'},\n",
       " {'id': 1021102,\n",
       "  'pdgid_id': 1136,\n",
       "  'pdgid': 'S067P23',\n",
       "  'edition': '2024',\n",
       "  'value_type': 'FC',\n",
       "  'in_summary_table': True,\n",
       "  'confidence_level': None,\n",
       "  'limit_type': None,\n",
       "  'comment': 'Assuming normal mass ordering',\n",
       "  'value': 0.5579671857245437,\n",
       "  'error_positive': 0.01540986825925941,\n",
       "  'error_negative': 0.02051779341399617,\n",
       "  'scale_factor': 1.0,\n",
       "  'unit_text': '',\n",
       "  'display_value_text': '0.558+0.015-0.021',\n",
       "  'display_power_of_ten': 0,\n",
       "  'display_in_percent': False,\n",
       "  'sort': 2,\n",
       "  'description': 'sin**2(theta(23))'}]"
      ]
     },
     "execution_count": 40,
     "metadata": {},
     "output_type": "execute_result"
    }
   ],
   "source": [
    "v.summary_values()"
   ]
  },
  {
   "cell_type": "code",
   "execution_count": 41,
   "id": "12d494d5-7d08-4ec3-b048-e20ae855a0cc",
   "metadata": {
    "editable": true,
    "slideshow": {
     "slide_type": ""
    },
    "tags": []
   },
   "outputs": [],
   "source": [
    "parent = api.get('S067')"
   ]
  },
  {
   "cell_type": "code",
   "execution_count": 42,
   "id": "ec330d6f-e30c-4245-9ec8-800c085d0550",
   "metadata": {
    "editable": true,
    "slideshow": {
     "slide_type": ""
    },
    "tags": []
   },
   "outputs": [],
   "source": [
    "props = list(parent.get_children())"
   ]
  },
  {
   "cell_type": "code",
   "execution_count": 43,
   "id": "0505fa2c-ed57-45e6-81ab-77aabc1f4774",
   "metadata": {
    "editable": true,
    "slideshow": {
     "slide_type": ""
    },
    "tags": []
   },
   "outputs": [
    {
     "data": {
      "text/plain": [
       "[('S067AER', 'Events (observed/expected) from accelerator nu_mu experiments.'),\n",
       " ('S067RER', 'Events (observed/expected) from reactor nubar_e experiments.'),\n",
       " ('S067DU0', 'R(mu/e) = (Measured Ratio mu/e) / (Expected Ratio mu/e)'),\n",
       " ('S067DU1', 'R(nu_mu) = (Measured Flux of nu_mu) / (Expected Flux of nu_mu)'),\n",
       " ('S067DU9',\n",
       "  'R(mu/total) = (Measured Ratio mu/total) / (Expected Ratio mu/total)'),\n",
       " ('S067UDM', 'N(up)(mu)/N(down)(mu)'),\n",
       " ('S067UDE', 'N(up)(e)/N(down)(e)'),\n",
       " ('S067MER',\n",
       "  'R(up/down; mu) = (Measured up/down; mu) / (Expected up/down; mu)'),\n",
       " ('S067MPM', 'N(mu+)/N(mu-)'),\n",
       " ('S067RPM',\n",
       "  'R(mu+/mu-) = (Measured N(mu+)/N(mu-)) / (Expected N(mu+)/N(mu-))'),\n",
       " ('S067SNU', 'nu_e Capture Rates from Radiochemical Experiments'),\n",
       " ('S067SES', 'phi(ES) (B8)'),\n",
       " ('S067SCC', 'phi(CC) (B8)'),\n",
       " ('S067SNC', 'phi(NC) (B8)'),\n",
       " ('S067SB8', 'phi(nu_mu+nu_tau) (B8)'),\n",
       " ('S067PPT', 'Total Flux of Active --> p p Solar Neutrinos'),\n",
       " ('S067B7T', 'Total Flux of Active Be7 Solar Neutrinos'),\n",
       " ('S067PET', 'Total Flux of Active --> p e p Solar Neutrinos'),\n",
       " ('S067SBT', 'Total Flux of Active B8 Solar Neutrinos'),\n",
       " ('S067CNT', 'Total Flux of Active CNO Solar Neutrinos'),\n",
       " ('S067HPT', 'Total Flux of Active hep Solar Neutrinos'),\n",
       " ('S067SDN', 'Day-Night Asymmetry (B8)'),\n",
       " ('S067PBE', 'phi(ES) (Be7)'),\n",
       " ('S067PEP', 'phi(ES) (p e p)'),\n",
       " ('S067CNO', 'phi(ES) (CNO)'),\n",
       " ('S067PPC', 'phi(ES)(pp)'),\n",
       " ('S067PPF', 'phi(CC)(pp)'),\n",
       " ('S067HEP', 'phi(ES) (hep)'),\n",
       " ('S067EB8', 'phi(nubar_e) (B8)'),\n",
       " ('S067P12', 'sin**2(theta(12))'),\n",
       " ('S067DM3', 'Deltam(21)**2'),\n",
       " ('S067P23', 'sin**2(theta(23))'),\n",
       " ('S067DM1', 'Deltam(32)**2'),\n",
       " ('S067P13', 'sin**2(theta(13))'),\n",
       " ('S067DEL', 'delta, CP violating phase'),\n",
       " ('S067D1', 'Delta(m)**2 for sin**2(2*theta) = 1  (nu_mu --> nu_e)'),\n",
       " ('S067S1', \"sin**2(2*theta) for ``Large'' Delta(m)**2  (nu_mu --> nu_e)\"),\n",
       " ('S067D2', 'Delta(m)**2 for sin**2(2*theta) = 1  (nubar_mu --> nubar_e)'),\n",
       " ('S067S2',\n",
       "  \"sin**2(2*theta) for ``Large'' Delta(m)**2 (nubar_mu --> nubar_e)\"),\n",
       " ('S067DU4', 'Delta(m)**2 for sin**2(2*theta) = 1  (nu_mu --> nu_s)'),\n",
       " ('S067NUS', 'Search for nu_mu or nu(e) --> nu_s'),\n",
       " ('S067CPT', '<Deltamass**2(21)-Deltambar(21)**2>'),\n",
       " ('S067CP2', '<Deltamass**2(32)-Deltambar(32)**2>')]"
      ]
     },
     "execution_count": 43,
     "metadata": {},
     "output_type": "execute_result"
    }
   ],
   "source": [
    "[(prop.baseid, prop.description) for prop in props]"
   ]
  },
  {
   "cell_type": "markdown",
   "id": "ab30dd12-9a91-43f9-89a5-df5f195d4b9b",
   "metadata": {
    "editable": true,
    "slideshow": {
     "slide_type": ""
    },
    "tags": []
   },
   "source": [
    "##### Some CKM elements"
   ]
  },
  {
   "cell_type": "code",
   "execution_count": 44,
   "id": "9fa945f4-0c33-438f-8d5b-46c0ded5b39e",
   "metadata": {
    "editable": true,
    "slideshow": {
     "slide_type": ""
    },
    "tags": []
   },
   "outputs": [
    {
     "data": {
      "text/plain": [
       "[('S052CB1', '|V_(cb)| * F(1) (from B0 --> D*- lepton+ nu)'),\n",
       " ('S052CB2', '|V_(cb)| * G(1) (from B --> D- lepton+ nu)'),\n",
       " ('S052A00', '|V(cb)| (from D_s*- mu+ nu_mu)')]"
      ]
     },
     "execution_count": 44,
     "metadata": {},
     "output_type": "execute_result"
    }
   ],
   "source": [
    "[(prop.baseid, prop.description) for prop in api.get('S052').get_children()]"
   ]
  },
  {
   "cell_type": "markdown",
   "id": "92c3f60f-7343-4cf7-a0ec-a09c5af757b9",
   "metadata": {
    "editable": true,
    "slideshow": {
     "slide_type": ""
    },
    "tags": []
   },
   "source": [
    "### Getting all the things"
   ]
  },
  {
   "cell_type": "markdown",
   "id": "25a9528e-b094-47bc-a753-179e009a00b6",
   "metadata": {
    "editable": true,
    "slideshow": {
     "slide_type": ""
    },
    "tags": []
   },
   "source": [
    "To assist in searching the database, the `api.get_all` function can be used to iterate over all PDG IDs. Optionally, an argument can be passed to restrict to a specific type of PDG ID. The set of allowed arguments is specified in the `pdgdoc` table in the SQLite file, under `DATA_TYPE`."
   ]
  },
  {
   "cell_type": "markdown",
   "id": "695f3228-bc81-4e00-a117-f88e84e71327",
   "metadata": {
    "editable": true,
    "slideshow": {
     "slide_type": ""
    },
    "tags": []
   },
   "source": [
    "#### Particles"
   ]
  },
  {
   "cell_type": "code",
   "execution_count": 45,
   "id": "4f420096-0bce-4955-8cf4-9e001dca1f12",
   "metadata": {
    "editable": true,
    "scrolled": true,
    "slideshow": {
     "slide_type": ""
    },
    "tags": []
   },
   "outputs": [
    {
     "data": {
      "text/plain": [
       "[PdgParticle('S000/2024', name='gamma'),\n",
       " PdgParticle('G021/2024', name='g'),\n",
       " PdgParticle('G033/2024', name='graviton'),\n",
       " PdgParticle('S043/2024', name='W+'),\n",
       " PdgParticle('S043/2024', name='W-'),\n",
       " PdgParticle('S044/2024', name='Z0'),\n",
       " PdgParticle('S126/2024', name='H'),\n",
       " PdgParticle('S029/2024', name='Axions (A0) and Other Very Light Bosons'),\n",
       " PdgParticle('S003/2024', name='e-'),\n",
       " PdgParticle('S003/2024', name='e+')]"
      ]
     },
     "execution_count": 45,
     "metadata": {},
     "output_type": "execute_result"
    }
   ],
   "source": [
    "particles = []\n",
    "for particle_list in api.get_all('PART'):\n",
    "    for p in particle_list:\n",
    "        particles.append(p)\n",
    "particles[:10]"
   ]
  },
  {
   "cell_type": "markdown",
   "id": "33a31c3b-2998-4efe-9b04-acc5f46fe477",
   "metadata": {
    "editable": true,
    "slideshow": {
     "slide_type": ""
    },
    "tags": []
   },
   "source": [
    "#### Decays"
   ]
  },
  {
   "cell_type": "code",
   "execution_count": 46,
   "id": "7db962fd-4cff-4082-8e4a-b1859a89efc6",
   "metadata": {
    "editable": true,
    "scrolled": true,
    "slideshow": {
     "slide_type": ""
    },
    "tags": []
   },
   "outputs": [
    {
     "data": {
      "text/plain": [
       "['f_0(1710) --> gamma gamma',\n",
       " 'D+ --> pi+ pi0 e+ e-',\n",
       " 'psi(4660) --> chi_c2() gamma',\n",
       " 'Xi_c()+ --> p phi(1020)',\n",
       " 'chi_c0(1P) --> K+ K- eta',\n",
       " 'Xi_b(6227) --> Lambda_b()0 K-  x B(b --> Xi_b(6227))/B(b --> Lambda_b()0)',\n",
       " 'D0 --> rho0 mu+ mu-',\n",
       " 'B0 --> rho0 f_0(980) , f_0() --> pi+ pi-',\n",
       " 'chi_c2(1P) --> pi+ pi- K0S K0S',\n",
       " 'psi(4040) --> chi_c2 pi+ pi- pi0']"
      ]
     },
     "execution_count": 46,
     "metadata": {},
     "output_type": "execute_result"
    }
   ],
   "source": [
    "descriptions = set()\n",
    "for particle_list in api.get_all('PART'):\n",
    "    for p in particle_list:\n",
    "        for decay in p.branching_fractions():\n",
    "            descriptions.add(decay.description)\n",
    "list(descriptions)[:10]"
   ]
  },
  {
   "cell_type": "markdown",
   "id": "bdeca70b-863f-4826-afa0-593a9a1b1122",
   "metadata": {
    "editable": true,
    "slideshow": {
     "slide_type": ""
    },
    "tags": []
   },
   "source": [
    "## Fancier exercises"
   ]
  },
  {
   "cell_type": "markdown",
   "id": "9d761295-3859-4e86-be8e-a1b5a0315593",
   "metadata": {
    "editable": true,
    "slideshow": {
     "slide_type": ""
    },
    "tags": []
   },
   "source": [
    "### Printing all $B^0$ decays that produce a $J/\\psi$"
   ]
  },
  {
   "cell_type": "code",
   "execution_count": 48,
   "id": "1d29b6aa-466e-4094-94e0-c062a99be2b5",
   "metadata": {
    "editable": true,
    "slideshow": {
     "slide_type": ""
    },
    "tags": []
   },
   "outputs": [
    {
     "data": {
      "text/plain": [
       "'J/psi(1S)'"
      ]
     },
     "execution_count": 48,
     "metadata": {},
     "output_type": "execute_result"
    }
   ],
   "source": [
    "p = api.get_particle_by_name('B0')\n",
    "jpsi_name = api.get_canonical_name('J/psi')\n",
    "jpsi_name"
   ]
  },
  {
   "cell_type": "code",
   "execution_count": 49,
   "id": "62374d52-4187-40a4-8216-04f0fc8ff229",
   "metadata": {
    "editable": true,
    "slideshow": {
     "slide_type": ""
    },
    "tags": []
   },
   "outputs": [
    {
     "name": "stdout",
     "output_type": "stream",
     "text": [
      "B0 --> J/psi(1S) K0                     (8.91+-0.21)E-4\n",
      "B0 --> J/psi(1S) K+ pi-                 (1.15+-0.05)E-3\n",
      "B0 --> J/psi(1S) eta K0S                (5.4+-0.9)E-5\n",
      "B0 --> J/psi(1S) eta^' K0S              <2.5E-5\n",
      "B0 --> J/psi(1S) phi K0                 (4.9+-1.0)E-5\n",
      "B0 --> J/psi(1S) omega K0               (2.3+-0.4)E-4\n",
      "B0 --> J/psi(1S) K(1270)0               (1.3+-0.5)E-3\n",
      "B0 --> J/psi(1S) pi0                    (1.66+-0.10)E-5\n",
      "B0 --> J/psi(1S) eta                    (1.08+-0.23)E-5\n",
      "B0 --> J/psi(1S) pi+ pi-                (3.99+-0.15)E-5\n",
      "B0 --> J/psi rho(1700)0 , rho()0 --> pi+ pi-(2.0+-1.3)E-6\n",
      "B0 --> J/psi(1S) omega                  (1.8+0.7-0.5)E-5\n",
      "B0 --> J/psi(1S) K+ K-                  (2.53+-0.35)E-6\n",
      "B0 --> J/psi(1S) phi                    <1.1E-7\n",
      "B0 --> J/psi(1S) eta^'(958)             (7.6+-2.4)E-6\n",
      "B0 --> J/psi(1S) K0 pi+ pi-             (4.5+-0.4)E-4\n",
      "B0 --> J/psi(1S) K0 K+ K-               (2.5+-0.7)E-5\n",
      "B0 --> J/psi(1S) K^*(892)+ pi-          (8+-4)E-4\n",
      "B0 --> J/psi(1S) pi+ pi- pi+ pi-        (1.44+-0.12)E-5\n",
      "B0 --> J/psi(1S) K^*(892)0 pi+ pi-      (6.6+-2.2)E-4\n",
      "B0 --> T_c_cbar_1(4430)+- K-+ , T_c_cbar_1()+- --> J/psi pi+-(5.4+4.0-1.2)E-6\n",
      "B0 --> T_c_cbar_1(3900)+- K-+ , T_c_cbar_1()+- --> J/psi pi+-<9E-7\n",
      "B0 --> T_c_cbar_1(4200)+- K-+ , T_c_cbar_1()+- --> J/psi pi+-(2.2+1.3-0.8)E-5\n",
      "B0 --> J/psi(1S) p pbar                 (4.5+-0.6)E-7\n",
      "B0 --> J/psi(1S) gamma                  <1.5E-6\n",
      "B0 --> J/psi mu+ mu- , J/psi --> mu+ mu-<1.0E-9\n",
      "B0 --> J/psi mu+ mu- , J/psi --> mu+ mu-<1.0E-9\n",
      "B0 --> J/psi(1S) Dbar0                  <1.3E-5\n",
      "B0 --> psi(4230)0 K0 , psi0 --> J/psi pi+ pi-<1.7E-5\n"
     ]
    }
   ],
   "source": [
    "for decay in p.exclusive_branching_fractions():\n",
    "    for decay_product in decay.decay_products:\n",
    "        item = decay_product.item\n",
    "        if item.has_particle and item.particle.name == jpsi_name:\n",
    "            print(f'{decay.description:40s}{decay.display_value_text}')"
   ]
  },
  {
   "cell_type": "markdown",
   "id": "52713c28-6d0b-40e9-b18e-df6970b0f5f9",
   "metadata": {
    "editable": true,
    "slideshow": {
     "slide_type": ""
    },
    "tags": []
   },
   "source": [
    "### Plotting partial widths of radiative decays of $\\Upsilon(1S)$ "
   ]
  },
  {
   "cell_type": "code",
   "execution_count": 50,
   "id": "efd2fb80-a3e6-4b10-aa57-8afc905da18b",
   "metadata": {
    "editable": true,
    "slideshow": {
     "slide_type": ""
    },
    "tags": []
   },
   "outputs": [
    {
     "data": {
      "image/png": "[encoded data removed]",
      "text/plain": [
       "<Figure size 640x480 with 1 Axes>"
      ]
     },
     "metadata": {},
     "output_type": "display_data"
    }
   ],
   "source": [
    "def produces_gamma(branch):\n",
    "    return any(p.item.has_particle and p.item.particle.name == 'gamma'\n",
    "               for p in branch.decay_products)\n",
    "\n",
    "p = api.get_particle_by_name('Upsilon(1S)')\n",
    "selected_branches = [branch for branch in p.branching_fractions()\n",
    "                    if produces_gamma(branch)]\n",
    "log_partial_widths = [np.log(p.width * b.value) for b in selected_branches]\n",
    "\n",
    "plt.hist(log_partial_widths, histtype='step', bins=np.linspace(-26, -12, 15));\n",
    "plt.xlabel(\"log(partial width [GeV])\")\n",
    "plt.ylabel('Number of branches')\n",
    "plt.title('Radiative Upsilon(1S) decays');"
   ]
  },
  {
   "cell_type": "markdown",
   "id": "3d1dfef9-c763-4178-942c-b967b6ea344f",
   "metadata": {
    "editable": true,
    "slideshow": {
     "slide_type": ""
    },
    "tags": []
   },
   "source": [
    "### Plotting masses of all decay products of $D^+$"
   ]
  },
  {
   "cell_type": "code",
   "execution_count": 51,
   "id": "68f1198e-c1ae-46e8-b9f2-aab1a6ed3987",
   "metadata": {
    "editable": true,
    "slideshow": {
     "slide_type": ""
    },
    "tags": []
   },
   "outputs": [
    {
     "data": {
      "image/png": "[encoded data removed]",
      "text/plain": [
       "<Figure size 640x480 with 1 Axes>"
      ]
     },
     "metadata": {},
     "output_type": "display_data"
    }
   ],
   "source": [
    "all_masses = set()\n",
    "# p = api.get_particle_by_name('Upsilon(1S)')\n",
    "p = api.get_particle_by_name('D0')\n",
    "for decay in p.exclusive_branching_fractions():\n",
    "    for p in decay.decay_products:\n",
    "        if not p.item.has_particle:\n",
    "            continue\n",
    "#        mass_prop = next(p.item.particle.masses(), None)\n",
    "#        if mass_prop is None or mass_prop.value is None:\n",
    "#            continue\n",
    "        if p.item.particle.has_mass_entry:\n",
    "            all_masses.add(p.item.particle.mass)\n",
    "plt.hist(all_masses);\n",
    "plt.xlabel('Mass [GeV]')\n",
    "plt.title('Masses of $D^+$ decay products');"
   ]
  },
  {
   "cell_type": "markdown",
   "id": "f0ef9305-cfb8-4cd9-a9d5-39386a14fff5",
   "metadata": {
    "editable": true,
    "slideshow": {
     "slide_type": ""
    },
    "tags": []
   },
   "source": [
    "### Plotting $K^+$ mass over time"
   ]
  },
  {
   "cell_type": "markdown",
   "id": "3de755d6-aa7f-4304-ab3b-2bce2d4251ca",
   "metadata": {
    "editable": true,
    "slideshow": {
     "slide_type": ""
    },
    "tags": []
   },
   "source": [
    "For this, you will need the \"pdgall\" database file from https://pdg.lbl.gov/2024/api/index.html."
   ]
  },
  {
   "cell_type": "code",
   "execution_count": 52,
   "id": "6c092fac-0461-46b0-bbd3-55cd3addaf1c",
   "metadata": {
    "editable": true,
    "slideshow": {
     "slide_type": ""
    },
    "tags": []
   },
   "outputs": [],
   "source": [
    "api_all = pdg.connect(\"sqlite:///pdgall-2024-v0.1.0.sqlite\")"
   ]
  },
  {
   "cell_type": "code",
   "execution_count": 53,
   "id": "67139120-4933-4c65-a409-c6615c04c168",
   "metadata": {
    "editable": true,
    "slideshow": {
     "slide_type": ""
    },
    "tags": []
   },
   "outputs": [
    {
     "data": {
      "image/png": "[encoded data removed]",
      "text/plain": [
       "<Figure size 640x480 with 1 Axes>"
      ]
     },
     "metadata": {},
     "output_type": "display_data"
    }
   ],
   "source": [
    "xs, ys, yerrs = [], [], []\n",
    "for edition in api_all.editions:\n",
    "    p = api_all.get_particle_by_name('K+', edition=edition)\n",
    "    if p.has_mass_entry:\n",
    "        xs.append(int(edition))\n",
    "        ys.append(p.mass)\n",
    "        yerrs.append(p.mass_error)\n",
    "\n",
    "plt.errorbar(xs, ys, yerrs)\n",
    "plt.xlabel('PDG edition')\n",
    "plt.ylabel('Mass [GeV]')\n",
    "plt.title('$K^+$ mass over time');"
   ]
  },
  {
   "cell_type": "markdown",
   "id": "5fd5cf24-2996-4508-a3db-a04b5d6616b6",
   "metadata": {
    "editable": true,
    "slideshow": {
     "slide_type": ""
    },
    "tags": []
   },
   "source": [
    "## Direct access using SQLAlchemy"
   ]
  },
  {
   "cell_type": "markdown",
   "id": "0884fad8-e72a-410a-8dc0-5cfc917407f8",
   "metadata": {
    "editable": true,
    "slideshow": {
     "slide_type": ""
    },
    "tags": []
   },
   "source": [
    "## Metadata and documentation tables"
   ]
  }
 ],
 "metadata": {
  "kernelspec": {
   "display_name": "Python 3 (ipykernel)",
   "language": "python",
   "name": "python3"
  },
  "language_info": {
   "codemirror_mode": {
    "name": "ipython",
    "version": 3
   },
   "file_extension": ".py",
   "mimetype": "text/x-python",
   "name": "python",
   "nbconvert_exporter": "python",
   "pygments_lexer": "ipython3",
   "version": "3.11.8"
  }
 },
 "nbformat": 4,
 "nbformat_minor": 5
}
