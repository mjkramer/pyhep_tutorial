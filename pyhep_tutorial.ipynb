{
 "cells": [
  {
   "cell_type": "markdown",
   "id": "eaea5c55-67ef-4ec2-b49a-ba05d348a166",
   "metadata": {
    "editable": true,
    "slideshow": {
     "slide_type": ""
    },
    "tags": []
   },
   "source": [
    "# PDG API tutorial, PyHEP 2024"
   ]
  },
  {
   "cell_type": "markdown",
   "id": "f2665a7b-f8ad-4ebf-84c5-d18d77bdde1f",
   "metadata": {
    "editable": true,
    "slideshow": {
     "slide_type": ""
    },
    "tags": []
   },
   "source": [
    "## Introduction"
   ]
  },
  {
   "cell_type": "markdown",
   "id": "7eee7e92-80b6-41a3-a78b-65377879a01a",
   "metadata": {
    "editable": true,
    "slideshow": {
     "slide_type": ""
    },
    "tags": []
   },
   "source": [
    "This is a whirlwind tour of the new PDG Python API!"
   ]
  },
  {
   "cell_type": "markdown",
   "id": "ffa51a4c-7f91-4790-9304-7df360d09d18",
   "metadata": {},
   "source": [
    "## Installation"
   ]
  },
  {
   "cell_type": "markdown",
   "id": "aa85f382-bc15-4247-b696-49db08cc9ff1",
   "metadata": {},
   "source": [
    "(Optional) First, create a virtual environment and activate it:"
   ]
  },
  {
   "cell_type": "markdown",
   "id": "22c1ac1d-9348-4678-b524-e8dcb9389ffd",
   "metadata": {},
   "source": [
    "```bash\n",
    "python -m venv ~/pdg.venv\n",
    "source ~/pdg.venv/bin/activate\n",
    "```"
   ]
  },
  {
   "cell_type": "markdown",
   "id": "813ac43a-22e5-4a73-98d5-156e51b936db",
   "metadata": {},
   "source": [
    "Now install the package:"
   ]
  },
  {
   "cell_type": "markdown",
   "id": "35ab956d-0ef7-4fd1-8615-348eb6cc2bdb",
   "metadata": {},
   "source": [
    "```bash\n",
    "pip install pdg\n",
    "```"
   ]
  },
  {
   "cell_type": "markdown",
   "id": "ab85870a-0137-4591-992b-21631004423f",
   "metadata": {},
   "source": [
    "## Preamble"
   ]
  },
  {
   "cell_type": "markdown",
   "id": "c22c9942-6a68-4ce9-947d-d7dc1d9be065",
   "metadata": {},
   "source": [
    "Unless otherwise noted, we assume the following preamble has been run:"
   ]
  },
  {
   "cell_type": "code",
   "execution_count": 1,
   "id": "117544ec-3770-4b6d-ae36-69d9bd60e0ec",
   "metadata": {
    "editable": true,
    "slideshow": {
     "slide_type": ""
    },
    "tags": []
   },
   "outputs": [],
   "source": [
    "import pdg\n",
    "\n",
    "api = pdg.connect()"
   ]
  },
  {
   "cell_type": "markdown",
   "id": "abf982fa-a7e6-4114-b4bc-333a20cbcaa9",
   "metadata": {
    "editable": true,
    "slideshow": {
     "slide_type": ""
    },
    "tags": []
   },
   "source": [
    "## Concepts "
   ]
  },
  {
   "cell_type": "markdown",
   "id": "f3715c0e-56c9-4e72-ade4-90cd2b3a5c27",
   "metadata": {
    "editable": true,
    "slideshow": {
     "slide_type": ""
    },
    "tags": []
   },
   "source": [
    "### Editions"
   ]
  },
  {
   "cell_type": "markdown",
   "id": "f73587c8-c6c7-4c73-8ea7-d5ae6c6f4de8",
   "metadata": {
    "editable": true,
    "slideshow": {
     "slide_type": ""
    },
    "tags": []
   },
   "source": [
    "There are multiple editions of the PDG database corresponding to the (bi)annual PDG releases. There is also a pdgall.sqlite containing data from all historical editions."
   ]
  },
  {
   "cell_type": "markdown",
   "id": "8c158028-c17a-439b-af87-dc63c7f09b9e",
   "metadata": {
    "editable": true,
    "slideshow": {
     "slide_type": ""
    },
    "tags": []
   },
   "source": [
    "### PDG IDs and nodes "
   ]
  },
  {
   "cell_type": "markdown",
   "id": "e18ef417-51c0-444e-850a-841fbfc27a9e",
   "metadata": {
    "editable": true,
    "slideshow": {
     "slide_type": ""
    },
    "tags": []
   },
   "source": [
    "Here, *PDG IDs* are used to to identify particles, properties of particles, and other quantities of interest. PDG IDs can have parent PDG IDs; for example, the parent PDG ID for a particle's mass will be the PDG ID of the particle itself. Top-level PDG IDs, such as those of particles, generally take the form of a letter followed by three digits. The PDG ID for a particle property takes the form of the parent PDG ID, a period, then some digits. A specific edition can be appended with a slash.\n",
    "\n",
    "Unlike Monte Carlo IDs, which always identify specific states, a PDG ID can represent multiple states from a multiplet."
   ]
  },
  {
   "cell_type": "markdown",
   "id": "d9c05c47-bb35-4aa3-9606-c80e0d797f1a",
   "metadata": {
    "editable": true,
    "slideshow": {
     "slide_type": ""
    },
    "tags": []
   },
   "source": [
    "#### The `get` function"
   ]
  },
  {
   "cell_type": "markdown",
   "id": "45dedc6c-ed0a-4b7c-bfd8-80fb2b3418c2",
   "metadata": {
    "editable": true,
    "slideshow": {
     "slide_type": ""
    },
    "tags": []
   },
   "source": [
    "### Monte Carlo IDs "
   ]
  },
  {
   "cell_type": "markdown",
   "id": "eef067e4-94ce-4a89-953f-a1532ba380ec",
   "metadata": {
    "editable": true,
    "slideshow": {
     "slide_type": ""
    },
    "tags": []
   },
   "source": [
    "Monte Carlo IDs (oftened called \"PDG IDs\" in the community) are used in MC generators and identify specific states. They are assigned algorithmically, with some historical special cases."
   ]
  },
  {
   "cell_type": "markdown",
   "id": "e12df8bf-7b3d-4139-8748-14cd3c63c6b3",
   "metadata": {
    "editable": true,
    "slideshow": {
     "slide_type": ""
    },
    "tags": []
   },
   "source": [
    "### Basic particle properties"
   ]
  },
  {
   "cell_type": "markdown",
   "id": "41f14e7b-6ea5-4b29-85a3-84569a985b99",
   "metadata": {
    "editable": true,
    "slideshow": {
     "slide_type": ""
    },
    "tags": []
   },
   "source": [
    "Basic properties, particularly quantum numbers, are directly associated to particles."
   ]
  },
  {
   "cell_type": "markdown",
   "id": "64d94c34-5e7d-4e62-a5c5-c227e064f0af",
   "metadata": {
    "editable": true,
    "slideshow": {
     "slide_type": ""
    },
    "tags": []
   },
   "source": [
    "### Summary table values "
   ]
  },
  {
   "cell_type": "markdown",
   "id": "06bb5681-4bb2-4866-ad56-7cf5767111c7",
   "metadata": {
    "editable": true,
    "slideshow": {
     "slide_type": ""
    },
    "tags": []
   },
   "source": [
    "Measured quantities, such as particle properties, are summarized by the PDG in *summary tables*, which list the PDG's evaluation (e.g. an average or fit) of the quantity based on measurements in the literature. The individual measurements are listed in *listings*. Currently, the API provides access to summary table values. Support for the listings will be added in the future."
   ]
  },
  {
   "cell_type": "markdown",
   "id": "a272671b-79f5-4564-8b83-16b5968f0be7",
   "metadata": {
    "editable": true,
    "slideshow": {
     "slide_type": ""
    },
    "tags": []
   },
   "source": [
    "A given PDG ID may have multiple summary table values, corresponding, for example, to different measurement techniques."
   ]
  },
  {
   "cell_type": "markdown",
   "id": "59c66481-203e-4a72-82d7-19c288f963eb",
   "metadata": {
    "editable": true,
    "slideshow": {
     "slide_type": ""
    },
    "tags": []
   },
   "source": [
    "#### Parent PDG IDs "
   ]
  },
  {
   "cell_type": "markdown",
   "id": "adb6eea9-c2b8-4476-ba56-602312590f69",
   "metadata": {
    "editable": true,
    "slideshow": {
     "slide_type": ""
    },
    "tags": []
   },
   "source": [
    "A particle property listed in the summary tables will have the particle itself as its parent PDG ID."
   ]
  },
  {
   "cell_type": "markdown",
   "id": "b72d2cb1-7099-48bb-82cf-0dfafc33a753",
   "metadata": {
    "editable": true,
    "slideshow": {
     "slide_type": ""
    },
    "tags": []
   },
   "source": [
    "#### Sort order"
   ]
  },
  {
   "cell_type": "markdown",
   "id": "d19a6bb6-973b-41fe-8850-c9870a7a2728",
   "metadata": {
    "editable": true,
    "slideshow": {
     "slide_type": ""
    },
    "tags": []
   },
   "source": [
    "Quantities may have multiple summary table values, in which case the database specifies their ordering."
   ]
  },
  {
   "cell_type": "markdown",
   "id": "a5dfd86e-a473-4ac7-8dc7-22f876520767",
   "metadata": {
    "editable": true,
    "slideshow": {
     "slide_type": ""
    },
    "tags": []
   },
   "source": [
    "#### Flags"
   ]
  },
  {
   "cell_type": "markdown",
   "id": "60fae527-370e-4bda-ad0c-bd66e4b1f961",
   "metadata": {
    "editable": true,
    "slideshow": {
     "slide_type": ""
    },
    "tags": []
   },
   "source": [
    "Additionally, when there are multiple summary table values for a quantity, they may use flags???? Or is this in pdgid/?????"
   ]
  },
  {
   "cell_type": "markdown",
   "id": "07e2976a-69cc-4784-8e9e-334627992518",
   "metadata": {
    "editable": true,
    "slideshow": {
     "slide_type": ""
    },
    "tags": []
   },
   "source": [
    "#### \"Best\" summaries"
   ]
  },
  {
   "cell_type": "markdown",
   "id": "6bb6b5ca-82cd-4773-9ba0-e87e0ba23fb4",
   "metadata": {
    "editable": true,
    "slideshow": {
     "slide_type": ""
    },
    "tags": []
   },
   "source": [
    "When multiple values are available, the API can provide the \"best\" one, i.e. the first-sorted one with flags that match."
   ]
  },
  {
   "cell_type": "markdown",
   "id": "47e33b03-50c7-4fff-924a-e01cbf9a120a",
   "metadata": {
    "editable": true,
    "slideshow": {
     "slide_type": ""
    },
    "tags": []
   },
   "source": [
    "### Items and their mappings"
   ]
  },
  {
   "cell_type": "markdown",
   "id": "d3031b48-d0dd-4c77-8df1-d9f8688e23c1",
   "metadata": {
    "editable": true,
    "slideshow": {
     "slide_type": ""
    },
    "tags": []
   },
   "source": [
    "Decays may be expressed in terms of \"generic\" particles: pions, leptons, etc. More generally, every \"thing\" in a decay is a *PDG item*. Some items correspond to specific particle states (MC IDs), while others correspond to other (specific) items, either mapping to one particular item (a *shortcut* or *alias*) or mapping to multiple (a *generic* item). The database defines this map between items. "
   ]
  },
  {
   "cell_type": "markdown",
   "id": "b70f5371-96e7-40fb-bc2f-d626ee303e06",
   "metadata": {
    "editable": true,
    "slideshow": {
     "slide_type": ""
    },
    "tags": []
   },
   "source": [
    "## Exercises"
   ]
  },
  {
   "cell_type": "markdown",
   "id": "4e5c0935-3638-4a8f-bb74-2d6717d5ad84",
   "metadata": {
    "editable": true,
    "slideshow": {
     "slide_type": ""
    },
    "tags": []
   },
   "source": [
    "### Getting a particle"
   ]
  },
  {
   "cell_type": "markdown",
   "id": "701a1654-8293-442d-8844-da4df504a6c0",
   "metadata": {
    "editable": true,
    "slideshow": {
     "slide_type": ""
    },
    "tags": []
   },
   "source": [
    "Particles are represented by the `PdgParticle` class. There are multiple ways to get a particle from the API. Depending on the method, the result can be a `PdgParticleList`, a generic `PdgParticle`, or a specific `PdgParticle`."
   ]
  },
  {
   "cell_type": "markdown",
   "id": "c03f5fb9-68d7-4a23-8bb3-78e07d5a07b3",
   "metadata": {
    "editable": true,
    "slideshow": {
     "slide_type": ""
    },
    "tags": []
   },
   "source": [
    "#### By name"
   ]
  },
  {
   "cell_type": "markdown",
   "id": "01f21dd4-77ad-4273-9bed-3caf7baae580",
   "metadata": {
    "editable": true,
    "slideshow": {
     "slide_type": ""
    },
    "tags": []
   },
   "source": [
    "A particle name can refer to a single particle or to a group of them. The function `get_particle_by_name` will return a `PdgParticle` if there's a unique match, and will raise an exception if not. The function `get_particles_by_name` always returns a list of `PdgParticles`."
   ]
  },
  {
   "cell_type": "code",
   "execution_count": 14,
   "id": "c8e1cb3e-e134-4981-a3e7-22c7aaed47ed",
   "metadata": {
    "editable": true,
    "slideshow": {
     "slide_type": ""
    },
    "tags": []
   },
   "outputs": [
    {
     "data": {
      "text/plain": [
       "PdgParticle('S008/2024', name='pi+')"
      ]
     },
     "execution_count": 14,
     "metadata": {},
     "output_type": "execute_result"
    }
   ],
   "source": [
    "api.get_particle_by_name('pi+')"
   ]
  },
  {
   "cell_type": "code",
   "execution_count": 5,
   "id": "44558c04-f71d-4c0b-bbc5-f42ad79b06f9",
   "metadata": {
    "editable": true,
    "slideshow": {
     "slide_type": ""
    },
    "tags": []
   },
   "outputs": [
    {
     "data": {
      "text/plain": [
       "[PdgParticle('S008/2024', name='pi-'),\n",
       " PdgParticle('S009/2024', name='pi0'),\n",
       " PdgParticle('S008/2024', name='pi+')]"
      ]
     },
     "execution_count": 5,
     "metadata": {},
     "output_type": "execute_result"
    }
   ],
   "source": [
    "api.get_particles_by_name('pi')"
   ]
  },
  {
   "cell_type": "code",
   "execution_count": 6,
   "id": "f79d6de5-2a30-4e44-8e5c-fe920dd11eed",
   "metadata": {
    "editable": true,
    "slideshow": {
     "slide_type": ""
    },
    "tags": []
   },
   "outputs": [
    {
     "data": {
      "text/plain": [
       "[PdgParticle('S017/2024', name='n'),\n",
       " PdgParticle('S016/2024', name='p'),\n",
       " PdgParticle('S017/2024', name='nbar'),\n",
       " PdgParticle('S016/2024', name='pbar')]"
      ]
     },
     "execution_count": 6,
     "metadata": {},
     "output_type": "execute_result"
    }
   ],
   "source": [
    "api.get_particles_by_name('N')"
   ]
  },
  {
   "cell_type": "code",
   "execution_count": 13,
   "id": "5cffa9ef-d762-461a-9605-dc4d10bc57dc",
   "metadata": {
    "editable": true,
    "scrolled": true,
    "slideshow": {
     "slide_type": ""
    },
    "tags": []
   },
   "outputs": [
    {
     "data": {
      "text/plain": [
       "[PdgParticle('B130/2024', name='Xi_c(2970)0'),\n",
       " PdgParticle('B130/2024', name='Xibar_c(2970)0')]"
      ]
     },
     "execution_count": 13,
     "metadata": {},
     "output_type": "execute_result"
    }
   ],
   "source": [
    "api.get_particles_by_name('Xi_c(2980)')"
   ]
  },
  {
   "cell_type": "code",
   "execution_count": 11,
   "id": "32bbf7ec-e3e8-428a-893b-13ff81a20016",
   "metadata": {
    "editable": true,
    "slideshow": {
     "slide_type": ""
    },
    "tags": []
   },
   "outputs": [
    {
     "data": {
      "text/plain": [
       "[PdgParticle('B130/2024', name='Xi_c(2970)0'),\n",
       " PdgParticle('B130/2024', name='Xibar_c(2970)0')]"
      ]
     },
     "execution_count": 11,
     "metadata": {},
     "output_type": "execute_result"
    }
   ],
   "source": [
    "api.get_particles_by_name('Xi_c(2970)')"
   ]
  },
  {
   "cell_type": "markdown",
   "id": "2e106506-910a-470e-85f6-26c784b16a03",
   "metadata": {
    "editable": true,
    "slideshow": {
     "slide_type": ""
    },
    "tags": []
   },
   "source": [
    "#### By PDG ID"
   ]
  },
  {
   "cell_type": "markdown",
   "id": "9867f296-169e-4a0d-8fc2-fc0f4e95a37a",
   "metadata": {
    "editable": true,
    "slideshow": {
     "slide_type": ""
    },
    "tags": []
   },
   "source": [
    "The `get` function, given a particle's PDG ID, returns a list of all associated particles. Since `get` must return an instance of a `PdgData` subclass, the return type is a `PdgParticleList`, rather than a simple list of `PdgParticle`s (as returned by `get_particles_by_name`). "
   ]
  },
  {
   "cell_type": "code",
   "execution_count": 16,
   "id": "1cba7312-ae7c-4024-b455-3d93610e6d56",
   "metadata": {
    "editable": true,
    "slideshow": {
     "slide_type": ""
    },
    "tags": []
   },
   "outputs": [
    {
     "data": {
      "text/plain": [
       "PdgParticleList('S008/2024')"
      ]
     },
     "execution_count": 16,
     "metadata": {},
     "output_type": "execute_result"
    }
   ],
   "source": [
    "api.get('S008/2024')"
   ]
  },
  {
   "cell_type": "markdown",
   "id": "0354400c-e5ca-45c5-abf6-f527fcf94289",
   "metadata": {
    "editable": true,
    "slideshow": {
     "slide_type": ""
    },
    "tags": []
   },
   "source": [
    "However, a simple list is simple to get:"
   ]
  },
  {
   "cell_type": "code",
   "execution_count": 17,
   "id": "5bb0998d-ebb3-4fdd-8ece-ee155a3cf91c",
   "metadata": {
    "editable": true,
    "slideshow": {
     "slide_type": ""
    },
    "tags": []
   },
   "outputs": [
    {
     "data": {
      "text/plain": [
       "[PdgParticle('S008/2024', name='pi+'), PdgParticle('S008/2024', name='pi-')]"
      ]
     },
     "execution_count": 17,
     "metadata": {},
     "output_type": "execute_result"
    }
   ],
   "source": [
    "list(_)"
   ]
  },
  {
   "cell_type": "markdown",
   "id": "7b2b144a-ed6d-40b1-b458-788c057c74e6",
   "metadata": {
    "editable": true,
    "slideshow": {
     "slide_type": ""
    },
    "tags": []
   },
   "source": [
    "#### By MC ID"
   ]
  },
  {
   "cell_type": "code",
   "execution_count": null,
   "id": "b3ec7950-ca05-47dc-9cb9-a60882101e69",
   "metadata": {
    "editable": true,
    "slideshow": {
     "slide_type": ""
    },
    "tags": []
   },
   "outputs": [],
   "source": [
    "p = api.get_particle_by_mcid(2212)\n",
    "p"
   ]
  },
  {
   "cell_type": "code",
   "execution_count": null,
   "id": "0cc653ba-60f6-4eb0-8156-e6ddbb927c05",
   "metadata": {
    "editable": true,
    "slideshow": {
     "slide_type": ""
    },
    "tags": []
   },
   "outputs": [],
   "source": [
    "p.name"
   ]
  },
  {
   "cell_type": "markdown",
   "id": "0c039107-e938-4e3e-954b-d1d89fd7d55b",
   "metadata": {
    "editable": true,
    "slideshow": {
     "slide_type": ""
    },
    "tags": []
   },
   "source": [
    "### Getting basic properties"
   ]
  },
  {
   "cell_type": "markdown",
   "id": "8024becf-ff22-45c0-bc57-a67f2fbc06ec",
   "metadata": {
    "editable": true,
    "slideshow": {
     "slide_type": ""
    },
    "tags": []
   },
   "source": [
    "### Getting masses, widths, lifetimes"
   ]
  },
  {
   "cell_type": "markdown",
   "id": "95ab1280-5785-434b-b8d8-f3d4196bc071",
   "metadata": {
    "editable": true,
    "slideshow": {
     "slide_type": ""
    },
    "tags": []
   },
   "source": [
    "### Getting limits on things"
   ]
  },
  {
   "cell_type": "markdown",
   "id": "d2ff6d3e-a3f2-49e9-971e-c976474b6161",
   "metadata": {
    "editable": true,
    "slideshow": {
     "slide_type": ""
    },
    "tags": []
   },
   "source": [
    "### Getting a particle's decays"
   ]
  },
  {
   "cell_type": "markdown",
   "id": "25250e66-9d37-4a2f-9bb2-0935014f3a9b",
   "metadata": {
    "editable": true,
    "slideshow": {
     "slide_type": ""
    },
    "tags": []
   },
   "source": [
    "### Iterating over decay products"
   ]
  },
  {
   "cell_type": "markdown",
   "id": "2cacb823-120f-42fe-a90a-2f892b1d8210",
   "metadata": {
    "editable": true,
    "slideshow": {
     "slide_type": ""
    },
    "tags": []
   },
   "source": [
    "### Getting arbitrary properties"
   ]
  },
  {
   "cell_type": "markdown",
   "id": "1ea059e4-3668-4a65-9baf-b602ae69c419",
   "metadata": {
    "editable": true,
    "jp-MarkdownHeadingCollapsed": true,
    "slideshow": {
     "slide_type": ""
    },
    "tags": []
   },
   "source": [
    "#### Particle-associated properties"
   ]
  },
  {
   "cell_type": "markdown",
   "id": "f112bb1d-683c-4c94-a3ae-c0a0bb71bef2",
   "metadata": {
    "editable": true,
    "slideshow": {
     "slide_type": ""
    },
    "tags": []
   },
   "source": [
    "#### Particle-independent properties"
   ]
  },
  {
   "cell_type": "markdown",
   "id": "6b130fee-abd4-44d3-981b-12f7da6a08b0",
   "metadata": {
    "editable": true,
    "jp-MarkdownHeadingCollapsed": true,
    "slideshow": {
     "slide_type": ""
    },
    "tags": []
   },
   "source": [
    "##### Neutrino properties"
   ]
  },
  {
   "cell_type": "markdown",
   "id": "ab30dd12-9a91-43f9-89a5-df5f195d4b9b",
   "metadata": {
    "editable": true,
    "jp-MarkdownHeadingCollapsed": true,
    "slideshow": {
     "slide_type": ""
    },
    "tags": []
   },
   "source": [
    "##### CKM elements"
   ]
  },
  {
   "cell_type": "markdown",
   "id": "92c3f60f-7343-4cf7-a0ec-a09c5af757b9",
   "metadata": {
    "editable": true,
    "slideshow": {
     "slide_type": ""
    },
    "tags": []
   },
   "source": [
    "### Getting all of the things"
   ]
  },
  {
   "cell_type": "markdown",
   "id": "695f3228-bc81-4e00-a117-f88e84e71327",
   "metadata": {
    "editable": true,
    "slideshow": {
     "slide_type": ""
    },
    "tags": []
   },
   "source": [
    "#### Particles"
   ]
  },
  {
   "cell_type": "markdown",
   "id": "33a31c3b-2998-4efe-9b04-acc5f46fe477",
   "metadata": {
    "editable": true,
    "slideshow": {
     "slide_type": ""
    },
    "tags": []
   },
   "source": [
    "#### Decays"
   ]
  },
  {
   "cell_type": "markdown",
   "id": "bdeca70b-863f-4826-afa0-593a9a1b1122",
   "metadata": {
    "editable": true,
    "slideshow": {
     "slide_type": ""
    },
    "tags": []
   },
   "source": [
    "## Fancier exercises"
   ]
  },
  {
   "cell_type": "markdown",
   "id": "e98e362c-f3b2-462a-87dc-56290f9c1aad",
   "metadata": {
    "editable": true,
    "slideshow": {
     "slide_type": ""
    },
    "tags": []
   },
   "source": [
    "### Getting all particles with nonzero strangeness"
   ]
  },
  {
   "cell_type": "markdown",
   "id": "9d761295-3859-4e86-be8e-a1b5a0315593",
   "metadata": {
    "editable": true,
    "slideshow": {
     "slide_type": ""
    },
    "tags": []
   },
   "source": [
    "### Printing all decays that produce a $J/\\psi$"
   ]
  },
  {
   "cell_type": "markdown",
   "id": "3d1dfef9-c763-4178-942c-b967b6ea344f",
   "metadata": {
    "editable": true,
    "slideshow": {
     "slide_type": ""
    },
    "tags": []
   },
   "source": [
    "### Plotting masses of all decay products of $\\Upsilon(4S)$"
   ]
  },
  {
   "cell_type": "markdown",
   "id": "f0ef9305-cfb8-4cd9-a9d5-39386a14fff5",
   "metadata": {
    "editable": true,
    "slideshow": {
     "slide_type": ""
    },
    "tags": []
   },
   "source": [
    "### Plotting precision of \\<some_measurement\\> over time"
   ]
  },
  {
   "cell_type": "markdown",
   "id": "cbb84b73-7315-4ed8-b360-2cd14be6ee23",
   "metadata": {
    "editable": true,
    "slideshow": {
     "slide_type": ""
    },
    "tags": []
   },
   "source": [
    "### Getting all isospin partners of \\<some_particle\\>"
   ]
  },
  {
   "cell_type": "markdown",
   "id": "5fd5cf24-2996-4508-a3db-a04b5d6616b6",
   "metadata": {
    "editable": true,
    "slideshow": {
     "slide_type": ""
    },
    "tags": []
   },
   "source": [
    "## Direct access using SQLAlchemy"
   ]
  },
  {
   "cell_type": "markdown",
   "id": "0884fad8-e72a-410a-8dc0-5cfc917407f8",
   "metadata": {
    "editable": true,
    "slideshow": {
     "slide_type": ""
    },
    "tags": []
   },
   "source": [
    "## Metadata and documentation tables"
   ]
  }
 ],
 "metadata": {
  "kernelspec": {
   "display_name": "Python 3 (ipykernel)",
   "language": "python",
   "name": "python3"
  },
  "language_info": {
   "codemirror_mode": {
    "name": "ipython",
    "version": 3
   },
   "file_extension": ".py",
   "mimetype": "text/x-python",
   "name": "python",
   "nbconvert_exporter": "python",
   "pygments_lexer": "ipython3",
   "version": "3.11.8"
  }
 },
 "nbformat": 4,
 "nbformat_minor": 5
}
