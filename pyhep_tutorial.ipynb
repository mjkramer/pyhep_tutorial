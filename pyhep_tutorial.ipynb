{
 "cells": [
  {
   "cell_type": "markdown",
   "id": "eaea5c55-67ef-4ec2-b49a-ba05d348a166",
   "metadata": {
    "editable": true,
    "slideshow": {
     "slide_type": ""
    },
    "tags": []
   },
   "source": [
    "# PDG API tutorial, PyHEP 2024"
   ]
  },
  {
   "cell_type": "markdown",
   "id": "f2665a7b-f8ad-4ebf-84c5-d18d77bdde1f",
   "metadata": {
    "editable": true,
    "slideshow": {
     "slide_type": ""
    },
    "tags": []
   },
   "source": [
    "## Introduction"
   ]
  },
  {
   "cell_type": "markdown",
   "id": "7eee7e92-80b6-41a3-a78b-65377879a01a",
   "metadata": {
    "editable": true,
    "slideshow": {
     "slide_type": ""
    },
    "tags": []
   },
   "source": [
    "The goal of this tutorial is to provide a set of examples that illustrate the main features of the API. Basic familiarity with Python is assumed. Comprehensive documentation is available at https://pdgapi.lbl.gov/doc/"
   ]
  },
  {
   "cell_type": "markdown",
   "id": "ffa51a4c-7f91-4790-9304-7df360d09d18",
   "metadata": {
    "editable": true,
    "slideshow": {
     "slide_type": ""
    },
    "tags": []
   },
   "source": [
    "## Installation"
   ]
  },
  {
   "attachments": {},
   "cell_type": "markdown",
   "id": "5d180d5c-5700-4c1a-b457-9cac0cde45f4",
   "metadata": {
    "editable": true,
    "slideshow": {
     "slide_type": ""
    },
    "tags": []
   },
   "source": [
    "First, create a virtual environment and activate it:\n",
    "\n",
    "```bash\n",
    "python -m venv ~/pdg.venv\n",
    "source ~/pdg.venv/bin/activate\n",
    "```\n",
    "\n",
    "This ensures that any dependencies will be installed in a self-contained environment.\n",
    "\n",
    "Now install the package:\n",
    "\n",
    "```bash\n",
    "pip install pdg\n",
    "```\n",
    "\n",
    "In order to run the examples in this notebook, some additional packages are required:\n",
    "\n",
    "```bash\n",
    "pip install numpy matplotlib jupyter\n",
    "```\n",
    "\n",
    "You can now launch a Jupyter session (`jupyter lab`) and open this notebook."
   ]
  },
  {
   "cell_type": "markdown",
   "id": "ab85870a-0137-4591-992b-21631004423f",
   "metadata": {
    "editable": true,
    "slideshow": {
     "slide_type": ""
    },
    "tags": []
   },
   "source": [
    "## Preamble"
   ]
  },
  {
   "cell_type": "markdown",
   "id": "c22c9942-6a68-4ce9-947d-d7dc1d9be065",
   "metadata": {
    "editable": true,
    "slideshow": {
     "slide_type": ""
    },
    "tags": []
   },
   "source": [
    "The examples that follow all assume that the following preamble has been run:"
   ]
  },
  {
   "cell_type": "code",
   "execution_count": 1,
   "id": "117544ec-3770-4b6d-ae36-69d9bd60e0ec",
   "metadata": {
    "editable": true,
    "slideshow": {
     "slide_type": ""
    },
    "tags": []
   },
   "outputs": [],
   "source": [
    "import pdg\n",
    "import matplotlib.pyplot as plt\n",
    "import numpy as np\n",
    "\n",
    "api = pdg.connect()"
   ]
  },
  {
   "cell_type": "markdown",
   "id": "b45bb9fe-f04f-4c88-86c4-145737e4f8c9",
   "metadata": {},
   "source": [
    "## An appetizer"
   ]
  },
  {
   "cell_type": "markdown",
   "id": "8a1f6079-e875-4a14-a181-a42799a23d20",
   "metadata": {},
   "source": [
    "Before we run through the fundamentals, let's take a look at a practical example that demonstrates one of the main new things offered by the API, namely, programmatic access to branching fractions:"
   ]
  },
  {
   "cell_type": "code",
   "execution_count": 2,
   "id": "70964fc1-a345-4c13-9651-2cbdf2c2e791",
   "metadata": {},
   "outputs": [
    {
     "name": "stdout",
     "output_type": "stream",
     "text": [
      "K+ --> e+ nu_e                      1.58167e-05\n",
      "K+ --> pi0 pi0 e+ nu_e              2.54928e-05\n",
      "K+ --> pi+ pi- e+ nu_e              4.24664e-05\n",
      "K+ --> pi+ pi- mu+ nu_mu            1.43495e-05\n",
      "K+ --> mu+ nu_mu gamma              0.00615882\n",
      "K+ --> mu+ nu_mu gamma (SD**+)      1.33e-05\n",
      "K+ --> e+ nu_e gamma                1.02858e-05\n",
      "K+ --> pi0 e+ nu_e gamma            0.000269809\n",
      "K+ --> pi0 mu+ nu_mu gamma          1.24769e-05\n",
      "K+ --> pi+ pi0 gamma (INT)          -4.24e-06\n",
      "K+ --> pi+ pi0 gamma (DE)           5.99e-06\n",
      "K+ --> pi+ pi0 e+ e-                4.24e-06\n",
      "K+ --> pi+ pi0 pi0 gamma            7.56649e-06\n",
      "K+ --> pi+ pi+ pi- gamma            7.12567e-06\n",
      "K+ --> pi+ gamma gamma              1.00599e-06\n",
      "K+ --> pi+ e+ e- gamma              1.19e-08\n",
      "K+ --> e+ nu_e e+ e-                2.48e-08\n",
      "K+ --> mu+ nu_mu e+ e-              7.06e-08\n",
      "K+ --> e+ nu_e mu+ mu-              1.72e-08\n",
      "K+ --> pi+ e+ e-                    2.99507e-07\n",
      "K+ --> pi+ mu+ mu-                  9.1721e-08\n",
      "K+ --> pi+ nu nubar                 1.13623e-10\n"
     ]
    }
   ],
   "source": [
    "for bf in api.get_particle_by_name('K+').exclusive_branching_fractions():\n",
    "    if not bf.is_limit:\n",
    "        print(f'{bf.description:35} {bf.value:7g}')"
   ]
  },
  {
   "cell_type": "markdown",
   "id": "ef53f94c-b264-4932-866c-f3c6f2f13b62",
   "metadata": {},
   "source": [
    "This should be pretty self explanatory: We're just printing the exclusive branching fractions of the $K^+$. We'll show some other practical examples soon, but first, let's quickly go over the basics."
   ]
  },
  {
   "cell_type": "markdown",
   "id": "b70f5371-96e7-40fb-bc2f-d626ee303e06",
   "metadata": {
    "editable": true,
    "slideshow": {
     "slide_type": ""
    },
    "tags": []
   },
   "source": [
    "## The basics"
   ]
  },
  {
   "cell_type": "markdown",
   "id": "4e5c0935-3638-4a8f-bb74-2d6717d5ad84",
   "metadata": {
    "editable": true,
    "slideshow": {
     "slide_type": ""
    },
    "tags": []
   },
   "source": [
    "### Getting a particle"
   ]
  },
  {
   "cell_type": "markdown",
   "id": "701a1654-8293-442d-8844-da4df504a6c0",
   "metadata": {
    "editable": true,
    "slideshow": {
     "slide_type": ""
    },
    "tags": []
   },
   "source": [
    "Particles are represented by the `PdgParticle` class. There are multiple ways to get a particle from the API. Depending on the method, the result can be a `PdgParticleList`, a Python list of `PdgParticle`s, or a specific `PdgParticle`."
   ]
  },
  {
   "cell_type": "markdown",
   "id": "c03f5fb9-68d7-4a23-8bb3-78e07d5a07b3",
   "metadata": {
    "editable": true,
    "slideshow": {
     "slide_type": ""
    },
    "tags": []
   },
   "source": [
    "#### By name"
   ]
  },
  {
   "cell_type": "markdown",
   "id": "01f21dd4-77ad-4273-9bed-3caf7baae580",
   "metadata": {
    "editable": true,
    "slideshow": {
     "slide_type": ""
    },
    "tags": []
   },
   "source": [
    "A particle name can refer to a single particle or to a group of them. The function `get_particle_by_name` will return a `PdgParticle` if there's a unique match, and will raise an exception if not. The function `get_particles_by_name` always returns a list of `PdgParticles`. Aliases will automatically be resolved."
   ]
  },
  {
   "cell_type": "code",
   "execution_count": 3,
   "id": "c8e1cb3e-e134-4981-a3e7-22c7aaed47ed",
   "metadata": {
    "editable": true,
    "slideshow": {
     "slide_type": ""
    },
    "tags": []
   },
   "outputs": [
    {
     "data": {
      "text/plain": [
       "PdgParticle('S008/2024', name='pi+')"
      ]
     },
     "execution_count": 3,
     "metadata": {},
     "output_type": "execute_result"
    }
   ],
   "source": [
    "api.get_particle_by_name('pi+')"
   ]
  },
  {
   "cell_type": "code",
   "execution_count": 4,
   "id": "44558c04-f71d-4c0b-bbc5-f42ad79b06f9",
   "metadata": {
    "editable": true,
    "slideshow": {
     "slide_type": ""
    },
    "tags": []
   },
   "outputs": [
    {
     "data": {
      "text/plain": [
       "[PdgParticle('S008/2024', name='pi-'),\n",
       " PdgParticle('S009/2024', name='pi0'),\n",
       " PdgParticle('S008/2024', name='pi+')]"
      ]
     },
     "execution_count": 4,
     "metadata": {},
     "output_type": "execute_result"
    }
   ],
   "source": [
    "api.get_particles_by_name('pi')"
   ]
  },
  {
   "cell_type": "markdown",
   "id": "a1ea5e72-01e6-46c2-b251-5e6b090ed8de",
   "metadata": {
    "editable": true,
    "slideshow": {
     "slide_type": ""
    },
    "tags": []
   },
   "source": [
    "#### By MC ID"
   ]
  },
  {
   "cell_type": "markdown",
   "id": "61d559ef-e94b-4ee2-b326-66974a6baa39",
   "metadata": {
    "editable": true,
    "slideshow": {
     "slide_type": ""
    },
    "tags": []
   },
   "source": [
    "Since MC IDs are unambiguous, `get_particle_by_mcid` returns a `PdgParticle` directly."
   ]
  },
  {
   "cell_type": "code",
   "execution_count": 5,
   "id": "b3ec7950-ca05-47dc-9cb9-a60882101e69",
   "metadata": {
    "editable": true,
    "slideshow": {
     "slide_type": ""
    },
    "tags": []
   },
   "outputs": [
    {
     "data": {
      "text/plain": [
       "PdgParticle('S016/2024', name='p')"
      ]
     },
     "execution_count": 5,
     "metadata": {},
     "output_type": "execute_result"
    }
   ],
   "source": [
    "api.get_particle_by_mcid(2212)"
   ]
  },
  {
   "cell_type": "markdown",
   "id": "2e106506-910a-470e-85f6-26c784b16a03",
   "metadata": {
    "editable": true,
    "slideshow": {
     "slide_type": ""
    },
    "tags": []
   },
   "source": [
    "#### By PDG identifier"
   ]
  },
  {
   "cell_type": "markdown",
   "id": "9867f296-169e-4a0d-8fc2-fc0f4e95a37a",
   "metadata": {
    "editable": true,
    "slideshow": {
     "slide_type": ""
    },
    "tags": []
   },
   "source": [
    "PDG identifiers correspond to pages on pdgLive and are shown on the page and URL. An identifier can refer to, e.g., a particle, or a set of measurements (e.g. masses) for a particle, or more general measurements, such as mixing angles. The `get` function, given a particle's PDG identifier, returns a list of all `PdgParticle`s associated to the ientifier. Since `get` must return an instance of a `PdgData` subclass, the return type is a `PdgParticleList`, rather than a simple list of `PdgParticle`s."
   ]
  },
  {
   "cell_type": "code",
   "execution_count": 6,
   "id": "1cba7312-ae7c-4024-b455-3d93610e6d56",
   "metadata": {
    "editable": true,
    "slideshow": {
     "slide_type": ""
    },
    "tags": []
   },
   "outputs": [
    {
     "data": {
      "text/plain": [
       "PdgParticleList('S008/2024')"
      ]
     },
     "execution_count": 6,
     "metadata": {},
     "output_type": "execute_result"
    }
   ],
   "source": [
    "plist = api.get('S008/2024')\n",
    "plist"
   ]
  },
  {
   "cell_type": "markdown",
   "id": "0354400c-e5ca-45c5-abf6-f527fcf94289",
   "metadata": {
    "editable": true,
    "slideshow": {
     "slide_type": ""
    },
    "tags": []
   },
   "source": [
    "However, a simple list is simple to get:"
   ]
  },
  {
   "cell_type": "code",
   "execution_count": 7,
   "id": "5bb0998d-ebb3-4fdd-8ece-ee155a3cf91c",
   "metadata": {
    "editable": true,
    "slideshow": {
     "slide_type": ""
    },
    "tags": []
   },
   "outputs": [
    {
     "data": {
      "text/plain": [
       "[PdgParticle('S008/2024', name='pi+'), PdgParticle('S008/2024', name='pi-')]"
      ]
     },
     "execution_count": 7,
     "metadata": {},
     "output_type": "execute_result"
    }
   ],
   "source": [
    "list(plist)"
   ]
  },
  {
   "cell_type": "markdown",
   "id": "0c039107-e938-4e3e-954b-d1d89fd7d55b",
   "metadata": {
    "editable": true,
    "slideshow": {
     "slide_type": ""
    },
    "tags": []
   },
   "source": [
    "### Getting quantum numbers"
   ]
  },
  {
   "cell_type": "markdown",
   "id": "1ad6c8ac-6fb4-4286-9d74-32e1f9c4d6af",
   "metadata": {
    "editable": true,
    "slideshow": {
     "slide_type": ""
    },
    "tags": []
   },
   "source": [
    "Quantum numbers are associated directly with a `PdgParticle` and can always be accessed as attributes."
   ]
  },
  {
   "cell_type": "code",
   "execution_count": 8,
   "id": "835a072a-7676-497d-8ec3-d7fa67f0d4e6",
   "metadata": {
    "editable": true,
    "slideshow": {
     "slide_type": ""
    },
    "tags": []
   },
   "outputs": [
    {
     "data": {
      "text/plain": [
       "(0.0, '1', '-', '0', '-', '+')"
      ]
     },
     "execution_count": 8,
     "metadata": {},
     "output_type": "execute_result"
    }
   ],
   "source": [
    "p = api.get_particle_by_name('pi0')\n",
    "p.charge, p.quantum_I, p.quantum_G, p.quantum_J, p.quantum_P, p.quantum_C"
   ]
  },
  {
   "cell_type": "code",
   "execution_count": 9,
   "id": "f9a78c7e-9f7d-4b74-8de5-5abb12b4413a",
   "metadata": {
    "editable": true,
    "slideshow": {
     "slide_type": ""
    },
    "tags": []
   },
   "outputs": [
    {
     "data": {
      "text/plain": [
       "(1.0, '1', '-', '0', '-', None)"
      ]
     },
     "execution_count": 9,
     "metadata": {},
     "output_type": "execute_result"
    }
   ],
   "source": [
    "p = api.get_particle_by_name('pi+')\n",
    "p.charge, p.quantum_I, p.quantum_G, p.quantum_J, p.quantum_P, p.quantum_C"
   ]
  },
  {
   "cell_type": "markdown",
   "id": "8024becf-ff22-45c0-bc57-a67f2fbc06ec",
   "metadata": {
    "editable": true,
    "slideshow": {
     "slide_type": ""
    },
    "tags": []
   },
   "source": [
    "### Getting masses, widths, and lifetimes"
   ]
  },
  {
   "cell_type": "markdown",
   "id": "91706e59-902b-485e-86cd-35c4d44b2ce2",
   "metadata": {
    "editable": true,
    "slideshow": {
     "slide_type": ""
    },
    "tags": []
   },
   "source": [
    "Masses, widths, and lifetimes are the main particle properties provided by the API. In some cases there may be multiple identifiers for masses (or widths or lifetimes) for a given particle, corresponding to different techniques or assumptions. A given particle may have width or lifetime properties, but not both."
   ]
  },
  {
   "cell_type": "markdown",
   "id": "49f814e5-d3ed-4825-b775-ac1439e833a4",
   "metadata": {
    "editable": true,
    "slideshow": {
     "slide_type": ""
    },
    "tags": []
   },
   "source": [
    "The `masses`, `widths`, and `lifetimes` methods provide iterators over these properties."
   ]
  },
  {
   "cell_type": "code",
   "execution_count": 10,
   "id": "4ff94c7f-ef13-4adb-a69d-e5e247a7cbc7",
   "metadata": {
    "editable": true,
    "slideshow": {
     "slide_type": ""
    },
    "tags": []
   },
   "outputs": [
    {
     "data": {
      "text/plain": [
       "[PdgMass('S008M/2024')]"
      ]
     },
     "execution_count": 10,
     "metadata": {},
     "output_type": "execute_result"
    }
   ],
   "source": [
    "p = api.get_particle_by_name('pi+')\n",
    "list(p.masses())"
   ]
  },
  {
   "cell_type": "code",
   "execution_count": 11,
   "id": "e185a110-126a-4dcb-83f5-89952248becb",
   "metadata": {
    "editable": true,
    "slideshow": {
     "slide_type": ""
    },
    "tags": []
   },
   "outputs": [
    {
     "data": {
      "text/plain": [
       "[]"
      ]
     },
     "execution_count": 11,
     "metadata": {},
     "output_type": "execute_result"
    }
   ],
   "source": [
    "list(p.widths())"
   ]
  },
  {
   "cell_type": "code",
   "execution_count": 12,
   "id": "16be4ec7-005e-4ebf-9931-dcce972a715f",
   "metadata": {
    "editable": true,
    "slideshow": {
     "slide_type": ""
    },
    "tags": []
   },
   "outputs": [
    {
     "data": {
      "text/plain": [
       "[PdgLifetime('S008T/2024')]"
      ]
     },
     "execution_count": 12,
     "metadata": {},
     "output_type": "execute_result"
    }
   ],
   "source": [
    "list(p.lifetimes())"
   ]
  },
  {
   "cell_type": "markdown",
   "id": "9407009f-ef2b-4f63-9926-9b947657f81d",
   "metadata": {
    "editable": true,
    "slideshow": {
     "slide_type": ""
    },
    "tags": []
   },
   "source": [
    "The `PdgMass`, `PdgWidth`, and `PdgLifetime` classes are all subclasses of `PdgProperty`, which provides a `summary_values` function that produces a list of `SummaryTableValue` objects:"
   ]
  },
  {
   "cell_type": "code",
   "execution_count": 13,
   "id": "b9234505-28b1-4581-9edc-4ebf7cbf2ea4",
   "metadata": {
    "editable": true,
    "slideshow": {
     "slide_type": ""
    },
    "tags": []
   },
   "outputs": [
    {
     "data": {
      "text/plain": [
       "PdgMass('S008M/2024')"
      ]
     },
     "execution_count": 13,
     "metadata": {},
     "output_type": "execute_result"
    }
   ],
   "source": [
    "m = api.get('S008M')\n",
    "m"
   ]
  },
  {
   "cell_type": "code",
   "execution_count": 14,
   "id": "f486237f-beed-4d7f-93ae-8652d3dc11f3",
   "metadata": {
    "editable": true,
    "slideshow": {
     "slide_type": ""
    },
    "tags": []
   },
   "outputs": [
    {
     "data": {
      "text/plain": [
       "[{'id': 1021180,\n",
       "  'pdgid_id': 1283,\n",
       "  'pdgid': 'S008M',\n",
       "  'edition': '2024',\n",
       "  'value_type': 'FC',\n",
       "  'in_summary_table': True,\n",
       "  'confidence_level': None,\n",
       "  'limit_type': None,\n",
       "  'comment': None,\n",
       "  'value': 139.5703909836813,\n",
       "  'error_positive': 0.0001820071604082601,\n",
       "  'error_negative': 0.0001820071604082601,\n",
       "  'scale_factor': 1.76094,\n",
       "  'unit_text': 'MeV',\n",
       "  'display_value_text': '139.57039+-0.00018',\n",
       "  'display_power_of_ten': 0,\n",
       "  'display_in_percent': False,\n",
       "  'sort': 1,\n",
       "  'description': 'pi+- MASS'},\n",
       " {'id': 1021181,\n",
       "  'pdgid_id': 1283,\n",
       "  'pdgid': 'S008M',\n",
       "  'edition': '2024',\n",
       "  'value_type': 'AC',\n",
       "  'in_summary_table': False,\n",
       "  'confidence_level': None,\n",
       "  'limit_type': None,\n",
       "  'comment': None,\n",
       "  'value': 139.5703909836813,\n",
       "  'error_positive': 0.0001693589698941287,\n",
       "  'error_negative': 0.0001693589698941287,\n",
       "  'scale_factor': 1.638568,\n",
       "  'unit_text': 'MeV',\n",
       "  'display_value_text': '139.57039+-0.00017',\n",
       "  'display_power_of_ten': 0,\n",
       "  'display_in_percent': False,\n",
       "  'sort': 2,\n",
       "  'description': 'pi+- MASS'}]"
      ]
     },
     "execution_count": 14,
     "metadata": {},
     "output_type": "execute_result"
    }
   ],
   "source": [
    "m.summary_values()"
   ]
  },
  {
   "cell_type": "markdown",
   "id": "23bcc66d-dacd-426e-bc01-35896e549c4b",
   "metadata": {},
   "source": [
    "Human-readable information on summary values is available via attributes:"
   ]
  },
  {
   "cell_type": "code",
   "execution_count": 15,
   "id": "0f538ccd-259b-4079-ad76-6f014d59f38b",
   "metadata": {
    "editable": true,
    "slideshow": {
     "slide_type": ""
    },
    "tags": []
   },
   "outputs": [
    {
     "data": {
      "text/plain": [
       "('OUR FIT', 'OUR AVERAGE')"
      ]
     },
     "execution_count": 15,
     "metadata": {},
     "output_type": "execute_result"
    }
   ],
   "source": [
    "sv = m.summary_values()\n",
    "sv[0].value_type, sv[1].value_type"
   ]
  },
  {
   "cell_type": "markdown",
   "id": "cdd460bb-101f-4152-ad53-d8d962dff032",
   "metadata": {
    "editable": true,
    "slideshow": {
     "slide_type": ""
    },
    "tags": []
   },
   "source": [
    "In this case, we see that two summary values are provided for `S008M`, corresponding to the PDG fit and average."
   ]
  },
  {
   "cell_type": "markdown",
   "id": "f07d0bf6-a1be-497a-88bf-f9a5adac7529",
   "metadata": {
    "editable": true,
    "slideshow": {
     "slide_type": ""
    },
    "tags": []
   },
   "source": [
    "A given summary value is encoded in whatever units are considered most appropriate. The encoded value and units can be accessed via the `value` and `units` attributes. The `get_value` method can be used to get the value in specified units."
   ]
  },
  {
   "cell_type": "code",
   "execution_count": 16,
   "id": "b47318e6-b993-4791-9f01-6e7e325e63ab",
   "metadata": {
    "editable": true,
    "slideshow": {
     "slide_type": ""
    },
    "tags": []
   },
   "outputs": [
    {
     "data": {
      "text/plain": [
       "(139.5703909836813, 'MeV', 0.13957039098368132)"
      ]
     },
     "execution_count": 16,
     "metadata": {},
     "output_type": "execute_result"
    }
   ],
   "source": [
    "v = m.summary_values()[0]\n",
    "\n",
    "v.value, v.units, v.get_value('GeV')"
   ]
  },
  {
   "cell_type": "markdown",
   "id": "84c6052c-e22d-47ab-bf6a-42587de30776",
   "metadata": {
    "editable": true,
    "slideshow": {
     "slide_type": ""
    },
    "tags": []
   },
   "source": [
    "The `error`, `error_positive`, and `error_negative` attributes, and the `get_error` method, are analogous:"
   ]
  },
  {
   "cell_type": "code",
   "execution_count": 17,
   "id": "bf8b21c3-c92a-4c3f-82db-a442b186f3cc",
   "metadata": {
    "editable": true,
    "slideshow": {
     "slide_type": ""
    },
    "tags": []
   },
   "outputs": [
    {
     "data": {
      "text/plain": [
       "(0.0001820071604082601,\n",
       " 0.0001820071604082601,\n",
       " 0.0001820071604082601,\n",
       " 1.8200716040826008e-07)"
      ]
     },
     "execution_count": 17,
     "metadata": {},
     "output_type": "execute_result"
    }
   ],
   "source": [
    "v.error, v.error_positive, v.error_negative, v.get_error('GeV')"
   ]
  },
  {
   "cell_type": "markdown",
   "id": "7aeb01c3-4398-47e6-a7e1-27ce4526247c",
   "metadata": {
    "editable": true,
    "slideshow": {
     "slide_type": ""
    },
    "tags": []
   },
   "source": [
    "For convenience, the `mass`, `width`, and `lifetime` attributes of a `PdgParticle` can be used to get the \"best\" (i.e. first) summary value, in standard units of GeV and seconds. Normally, widths and lifetimes are automatically interconverted when necessary. (In pedantic mode, this does not occur, and there must be exactly one matching property identifier and summary value, or a `PdgNoDataError` will be thrown.)"
   ]
  },
  {
   "cell_type": "code",
   "execution_count": 18,
   "id": "75c9808e-9f6f-4565-b6d4-21841ad785e6",
   "metadata": {
    "editable": true,
    "slideshow": {
     "slide_type": ""
    },
    "tags": []
   },
   "outputs": [
    {
     "data": {
      "text/plain": [
       "(0.13957039098368132, 2.5283166082854054e-17, 2.603313199949126e-08)"
      ]
     },
     "execution_count": 18,
     "metadata": {},
     "output_type": "execute_result"
    }
   ],
   "source": [
    "p.mass, p.width, p.lifetime"
   ]
  },
  {
   "cell_type": "markdown",
   "id": "bb4c7e2e-c4f4-4a9a-8ea8-85dacc879c10",
   "metadata": {
    "editable": true,
    "slideshow": {
     "slide_type": ""
    },
    "tags": []
   },
   "source": [
    "The top quark provides an example where there are multiple mass properties:"
   ]
  },
  {
   "cell_type": "code",
   "execution_count": 19,
   "id": "6ea929c9-3038-459f-8180-04ac2737b627",
   "metadata": {
    "editable": true,
    "slideshow": {
     "slide_type": ""
    },
    "tags": []
   },
   "outputs": [
    {
     "data": {
      "text/plain": [
       "[PdgMass('Q007TP/2024'), PdgMass('Q007TP2/2024'), PdgMass('Q007TP4/2024')]"
      ]
     },
     "execution_count": 19,
     "metadata": {},
     "output_type": "execute_result"
    }
   ],
   "source": [
    "p = api.get_particle_by_name('t')\n",
    "\n",
    "list(p.masses())"
   ]
  },
  {
   "cell_type": "code",
   "execution_count": 20,
   "id": "a67bc169-fccc-4adb-af8b-4241fc70ca34",
   "metadata": {
    "editable": true,
    "slideshow": {
     "slide_type": ""
    },
    "tags": []
   },
   "outputs": [
    {
     "data": {
      "text/plain": [
       "['t-Quark Mass (Direct Measurements)',\n",
       " 't-Quark Mass from Cross-Section Measurements',\n",
       " 't-Quark Pole Mass from Cross-Section Measurements']"
      ]
     },
     "execution_count": 20,
     "metadata": {},
     "output_type": "execute_result"
    }
   ],
   "source": [
    "[m.description for m in p.masses()]"
   ]
  },
  {
   "cell_type": "markdown",
   "id": "d2ff6d3e-a3f2-49e9-971e-c976474b6161",
   "metadata": {
    "editable": true,
    "slideshow": {
     "slide_type": ""
    },
    "tags": []
   },
   "source": [
    "### Getting decays"
   ]
  },
  {
   "cell_type": "markdown",
   "id": "d53e941c-98c1-4ada-aae0-85d86ba6df57",
   "metadata": {},
   "source": [
    "In addition to masses and widths/lifetimes, a particle can have one or more branching fraction properties (which are either inclusive or exclusive):"
   ]
  },
  {
   "cell_type": "code",
   "execution_count": 21,
   "id": "5f07077f-49ef-45f7-a3f2-b7adf342ec2e",
   "metadata": {
    "editable": true,
    "slideshow": {
     "slide_type": ""
    },
    "tags": []
   },
   "outputs": [],
   "source": [
    "p = api.get_particle_by_name('pi+')"
   ]
  },
  {
   "cell_type": "markdown",
   "id": "c55920d0-055b-419e-9cc4-b49f47db366c",
   "metadata": {},
   "source": [
    "We can easily get all of the branching fractions of the $\\pi^+$:"
   ]
  },
  {
   "cell_type": "code",
   "execution_count": 22,
   "id": "2a192089-cf68-4e13-964c-7fec475869e5",
   "metadata": {},
   "outputs": [
    {
     "data": {
      "text/plain": [
       "[PdgBranchingFraction('S008.1/2024', \"pi+ --> mu+ nu_mu\"),\n",
       " PdgBranchingFraction('S008.3/2024', \"pi+ --> mu+ nu_mu gamma\"),\n",
       " PdgBranchingFraction('S008.2/2024', \"pi+ --> e+ nu_e\"),\n",
       " PdgBranchingFraction('S008.5/2024', \"pi+ --> e+ nu_e gamma\"),\n",
       " PdgBranchingFraction('S008.4/2024', \"pi+ --> e+ nu_e pi0\"),\n",
       " PdgBranchingFraction('S008.6/2024', \"pi+ --> e+ nu_e e+ e-\"),\n",
       " PdgBranchingFraction('S008.11/2024', \"pi+ --> mu+ nu_mu nu nubar\"),\n",
       " PdgBranchingFraction('S008.10/2024', \"pi+ --> e+ nu_e nu nubar\"),\n",
       " PdgBranchingFraction('S008.7/2024', \"pi+ --> mu+ nubar_e\"),\n",
       " PdgBranchingFraction('S008.8/2024', \"pi+ --> mu+ nu_e\"),\n",
       " PdgBranchingFraction('S008.9/2024', \"pi+ --> mu- e+ e+ nu\")]"
      ]
     },
     "execution_count": 22,
     "metadata": {},
     "output_type": "execute_result"
    }
   ],
   "source": [
    "list(p.branching_fractions())"
   ]
  },
  {
   "cell_type": "markdown",
   "id": "f11f3039-b1cd-47b3-8723-6c50b0786813",
   "metadata": {},
   "source": [
    "In this case, they're all exclusive:"
   ]
  },
  {
   "cell_type": "code",
   "execution_count": 23,
   "id": "30027174-0d75-4442-9173-28b76c5a8d85",
   "metadata": {},
   "outputs": [
    {
     "data": {
      "text/plain": [
       "[]"
      ]
     },
     "execution_count": 23,
     "metadata": {},
     "output_type": "execute_result"
    }
   ],
   "source": [
    "list(p.inclusive_branching_fractions())"
   ]
  },
  {
   "cell_type": "markdown",
   "id": "68d6b11a-3054-4764-8120-fb68ea6eac14",
   "metadata": {},
   "source": [
    "Taking the first decay:"
   ]
  },
  {
   "cell_type": "code",
   "execution_count": 24,
   "id": "1f3a4703-2eff-4769-b42f-d70820bf02e6",
   "metadata": {
    "editable": true,
    "slideshow": {
     "slide_type": ""
    },
    "tags": []
   },
   "outputs": [
    {
     "data": {
      "text/plain": [
       "PdgBranchingFraction('S008.1/2024', \"pi+ --> mu+ nu_mu\")"
      ]
     },
     "execution_count": 24,
     "metadata": {},
     "output_type": "execute_result"
    }
   ],
   "source": [
    "decay = next(p.exclusive_branching_fractions())\n",
    "decay"
   ]
  },
  {
   "cell_type": "markdown",
   "id": "1cfe00c6-3090-42af-9dd2-dc006715f1ed",
   "metadata": {},
   "source": [
    "We can get its description:"
   ]
  },
  {
   "cell_type": "code",
   "execution_count": 25,
   "id": "2104c0a9-355b-4c59-b616-7f5bd7ce3e4d",
   "metadata": {
    "editable": true,
    "slideshow": {
     "slide_type": ""
    },
    "tags": []
   },
   "outputs": [
    {
     "data": {
      "text/plain": [
       "'pi+ --> mu+ nu_mu'"
      ]
     },
     "execution_count": 25,
     "metadata": {},
     "output_type": "execute_result"
    }
   ],
   "source": [
    "decay.description"
   ]
  },
  {
   "cell_type": "markdown",
   "id": "fe98f8b4-d3c3-4215-bcc9-ea1bf652370d",
   "metadata": {},
   "source": [
    "And the summary values for the branching fraction itself:"
   ]
  },
  {
   "cell_type": "code",
   "execution_count": 26,
   "id": "b73326be-0338-47f5-9154-85427d0f1cee",
   "metadata": {
    "editable": true,
    "slideshow": {
     "slide_type": ""
    },
    "tags": []
   },
   "outputs": [
    {
     "data": {
      "text/plain": [
       "[{'id': 1021202,\n",
       "  'pdgid_id': 1306,\n",
       "  'pdgid': 'S008.1',\n",
       "  'edition': '2024',\n",
       "  'value_type': 'V',\n",
       "  'in_summary_table': True,\n",
       "  'confidence_level': None,\n",
       "  'limit_type': None,\n",
       "  'comment': None,\n",
       "  'value': 99.9877,\n",
       "  'error_positive': 4e-07,\n",
       "  'error_negative': 4e-07,\n",
       "  'scale_factor': None,\n",
       "  'unit_text': '',\n",
       "  'display_value_text': '(99.98770+-0.00004)%',\n",
       "  'display_power_of_ten': 0,\n",
       "  'display_in_percent': False,\n",
       "  'sort': 1,\n",
       "  'description': 'pi+ --> mu+ nu_mu'}]"
      ]
     },
     "execution_count": 26,
     "metadata": {},
     "output_type": "execute_result"
    }
   ],
   "source": [
    "decay.summary_values()"
   ]
  },
  {
   "cell_type": "markdown",
   "id": "e6ce3582-5621-4537-8b1f-06e4d4d3dc63",
   "metadata": {},
   "source": [
    "Going further, we can inspect the products of the decay:"
   ]
  },
  {
   "cell_type": "code",
   "execution_count": 27,
   "id": "b5ec052c-b58a-41cb-b4ff-7ee594c08cbf",
   "metadata": {
    "editable": true,
    "slideshow": {
     "slide_type": ""
    },
    "tags": []
   },
   "outputs": [
    {
     "data": {
      "text/plain": [
       "[PdgDecayProduct(item='mu+', multiplier=1, subdecay=None),\n",
       " PdgDecayProduct(item='nu_mu', multiplier=1, subdecay=None)]"
      ]
     },
     "execution_count": 27,
     "metadata": {},
     "output_type": "execute_result"
    }
   ],
   "source": [
    "products = decay.decay_products\n",
    "products"
   ]
  },
  {
   "cell_type": "code",
   "execution_count": 28,
   "id": "fcf7e0e3-c51b-439a-8c14-3bff5e18a58a",
   "metadata": {},
   "outputs": [
    {
     "data": {
      "text/plain": [
       "(PdgItem(\"mu+\"), 1, None)"
      ]
     },
     "execution_count": 28,
     "metadata": {},
     "output_type": "execute_result"
    }
   ],
   "source": [
    "products[0].item, products[0].multiplier, products[0].subdecay"
   ]
  },
  {
   "cell_type": "markdown",
   "id": "bdeca70b-863f-4826-afa0-593a9a1b1122",
   "metadata": {
    "editable": true,
    "slideshow": {
     "slide_type": ""
    },
    "tags": []
   },
   "source": [
    "## Some examples"
   ]
  },
  {
   "cell_type": "markdown",
   "id": "94dba974-5404-4e8c-8149-4aeab9bd2c48",
   "metadata": {},
   "source": [
    "Having covered the basics, let's dive into some more interesting examples."
   ]
  },
  {
   "cell_type": "markdown",
   "id": "9d761295-3859-4e86-be8e-a1b5a0315593",
   "metadata": {
    "editable": true,
    "slideshow": {
     "slide_type": ""
    },
    "tags": []
   },
   "source": [
    "### Printing all $B^0$ decays that produce a $J/\\psi$"
   ]
  },
  {
   "cell_type": "code",
   "execution_count": 29,
   "id": "bb86e59b-e2ae-4639-8e40-9403a6999096",
   "metadata": {
    "editable": true,
    "slideshow": {
     "slide_type": ""
    },
    "tags": []
   },
   "outputs": [
    {
     "name": "stdout",
     "output_type": "stream",
     "text": [
      "B0 --> J/psi(1S) K0                                               (8.91+-0.21)E-4\n",
      "B0 --> J/psi(1S) K+ pi-                                           (1.15+-0.05)E-3\n",
      "B0 --> J/psi(1S) eta K0S                                          (5.4+-0.9)E-5\n",
      "B0 --> J/psi(1S) eta^' K0S                                        <2.5E-5\n",
      "B0 --> J/psi(1S) phi K0                                           (4.9+-1.0)E-5\n",
      "B0 --> J/psi(1S) omega K0                                         (2.3+-0.4)E-4\n",
      "B0 --> J/psi(1S) K(1270)0                                         (1.3+-0.5)E-3\n",
      "B0 --> J/psi(1S) pi0                                              (1.66+-0.10)E-5\n",
      "B0 --> J/psi(1S) eta                                              (1.08+-0.23)E-5\n",
      "B0 --> J/psi(1S) pi+ pi-                                          (3.99+-0.15)E-5\n",
      "B0 --> J/psi rho(1700)0 , rho()0 --> pi+ pi-                      (2.0+-1.3)E-6\n",
      "B0 --> J/psi(1S) omega                                            (1.8+0.7-0.5)E-5\n",
      "B0 --> J/psi(1S) K+ K-                                            (2.53+-0.35)E-6\n",
      "B0 --> J/psi(1S) phi                                              <1.1E-7\n",
      "B0 --> J/psi(1S) eta^'(958)                                       (7.6+-2.4)E-6\n",
      "B0 --> J/psi(1S) K0 pi+ pi-                                       (4.5+-0.4)E-4\n",
      "B0 --> J/psi(1S) K0 K+ K-                                         (2.5+-0.7)E-5\n",
      "B0 --> J/psi(1S) K^*(892)+ pi-                                    (8+-4)E-4\n",
      "B0 --> J/psi(1S) pi+ pi- pi+ pi-                                  (1.44+-0.12)E-5\n",
      "B0 --> J/psi(1S) K^*(892)0 pi+ pi-                                (6.6+-2.2)E-4\n",
      "B0 --> T_c_cbar_1(4430)+- K-+ , T_c_cbar_1()+- --> J/psi pi+-     (5.4+4.0-1.2)E-6\n",
      "B0 --> T_c_cbar_1(3900)+- K-+ , T_c_cbar_1()+- --> J/psi pi+-     <9E-7\n",
      "B0 --> T_c_cbar_1(4200)+- K-+ , T_c_cbar_1()+- --> J/psi pi+-     (2.2+1.3-0.8)E-5\n",
      "B0 --> J/psi(1S) p pbar                                           (4.5+-0.6)E-7\n",
      "B0 --> J/psi(1S) gamma                                            <1.5E-6\n",
      "B0 --> J/psi mu+ mu- , J/psi --> mu+ mu-                          <1.0E-9\n",
      "B0 --> J/psi mu+ mu- , J/psi --> mu+ mu-                          <1.0E-9\n",
      "B0 --> J/psi(1S) Dbar0                                            <1.3E-5\n",
      "B0 --> psi(4230)0 K0 , psi0 --> J/psi pi+ pi-                     <1.7E-5\n"
     ]
    }
   ],
   "source": [
    "p = api.get_particle_by_name('B0')\n",
    "# The \"canonical\" name of the particle should be used for comparisons:\n",
    "jpsi_name = api.get_canonical_name('J/psi')\n",
    "# For the J/psi the canonical name is J/psi(1S)\n",
    "\n",
    "for decay in p.exclusive_branching_fractions():\n",
    "    for decay_product in decay.decay_products:\n",
    "        item = decay_product.item\n",
    "        # A decay product's PdgItem may be associated with a specific particle,\n",
    "        # but may also be something more generic (e.g. \"leptons\"). If has_particle\n",
    "        # is True, we can retrieve the associated PdgParticle via the particle property.\n",
    "        if item.has_particle and item.particle.name == jpsi_name:\n",
    "            print(f'{decay.description:65s} {decay.display_value_text}')"
   ]
  },
  {
   "cell_type": "markdown",
   "id": "3d1dfef9-c763-4178-942c-b967b6ea344f",
   "metadata": {
    "editable": true,
    "slideshow": {
     "slide_type": ""
    },
    "tags": []
   },
   "source": [
    "### Plotting masses of all decay products of the $D^+$"
   ]
  },
  {
   "cell_type": "code",
   "execution_count": 30,
   "id": "68f1198e-c1ae-46e8-b9f2-aab1a6ed3987",
   "metadata": {
    "editable": true,
    "slideshow": {
     "slide_type": ""
    },
    "tags": []
   },
   "outputs": [
    {
     "data": {
      "image/png": "[encoded data removed]",
      "text/plain": [
       "<Figure size 640x480 with 1 Axes>"
      ]
     },
     "metadata": {},
     "output_type": "display_data"
    }
   ],
   "source": [
    "all_masses = set()\n",
    "p = api.get_particle_by_name('D+')\n",
    "for decay in p.exclusive_branching_fractions():\n",
    "    for prod in decay.decay_products:\n",
    "        if not prod.item.has_particle:\n",
    "            continue\n",
    "        if prod.item.particle.has_mass_entry:\n",
    "            # Since a mass entry could be a limit, rather than a measurement,\n",
    "            # we must perform a check:\n",
    "            if prod.item.particle.mass is not None:\n",
    "                all_masses.add(prod.item.particle.mass)\n",
    "plt.hist(all_masses);\n",
    "plt.xlabel('Mass [GeV]')\n",
    "plt.title('Masses of $D^+$ decay products');"
   ]
  },
  {
   "cell_type": "markdown",
   "id": "f0ef9305-cfb8-4cd9-a9d5-39386a14fff5",
   "metadata": {
    "editable": true,
    "slideshow": {
     "slide_type": ""
    },
    "tags": []
   },
   "source": [
    "### Plotting $K^+$ mass over time"
   ]
  },
  {
   "cell_type": "markdown",
   "id": "3de755d6-aa7f-4304-ab3b-2bce2d4251ca",
   "metadata": {
    "editable": true,
    "slideshow": {
     "slide_type": ""
    },
    "tags": []
   },
   "source": [
    "For this, you will need the \"pdgall\" database file from https://pdg.lbl.gov/2024/api/index.html."
   ]
  },
  {
   "cell_type": "code",
   "execution_count": 31,
   "id": "6c092fac-0461-46b0-bbd3-55cd3addaf1c",
   "metadata": {
    "editable": true,
    "slideshow": {
     "slide_type": ""
    },
    "tags": []
   },
   "outputs": [],
   "source": [
    "api_all = pdg.connect(\"sqlite:///pdgall-2024-v0.1.0.sqlite\")"
   ]
  },
  {
   "cell_type": "code",
   "execution_count": 32,
   "id": "67139120-4933-4c65-a409-c6615c04c168",
   "metadata": {
    "editable": true,
    "slideshow": {
     "slide_type": ""
    },
    "tags": []
   },
   "outputs": [
    {
     "data": {
      "image/png": "[encoded data removed]",
      "text/plain": [
       "<Figure size 640x480 with 1 Axes>"
      ]
     },
     "metadata": {},
     "output_type": "display_data"
    }
   ],
   "source": [
    "xs, ys, yerrs = [], [], []\n",
    "for edition in api_all.editions:\n",
    "    p = api_all.get_particle_by_name('K+', edition=edition)\n",
    "    if p.has_mass_entry and p.mass is not None:\n",
    "        xs.append(int(edition))\n",
    "        ys.append(p.mass)\n",
    "        yerrs.append(p.mass_error)\n",
    "\n",
    "plt.errorbar(xs, ys, yerrs)\n",
    "plt.xlabel('PDG edition')\n",
    "plt.ylabel('Mass [GeV]')\n",
    "plt.title('$K^+$ mass over time');"
   ]
  },
  {
   "cell_type": "markdown",
   "id": "2ab34848-5d73-425b-8311-d2061ba52814",
   "metadata": {
    "editable": true,
    "slideshow": {
     "slide_type": ""
    },
    "tags": []
   },
   "source": [
    "### Printing all neutrino mixing properties"
   ]
  },
  {
   "cell_type": "markdown",
   "id": "98d8aecb-a808-4645-ad6a-b9e3c3e94d32",
   "metadata": {},
   "source": [
    "Neutrino mixing properties all live under the `S067` parent identifier (as can be seen, for example, by browsing pdgLive). Let's print them all:"
   ]
  },
  {
   "cell_type": "code",
   "execution_count": 33,
   "id": "7cc5811b-93c6-4bb7-bf60-1dd9e12b9755",
   "metadata": {
    "editable": true,
    "slideshow": {
     "slide_type": ""
    },
    "tags": []
   },
   "outputs": [
    {
     "name": "stdout",
     "output_type": "stream",
     "text": [
      "S067SDN    0.033000 Day-Night Asymmetry (B8)\n",
      "S067P12    0.307000 sin**2(theta(12))\n",
      "S067DM3    0.000075 Deltam(21)**2\n",
      "S067P23    0.552989 sin**2(theta(23))\n",
      "S067DM1    -0.002529 Deltam(32)**2\n",
      "S067P13    0.021866 sin**2(theta(13))\n",
      "S067DEL    1.186745 delta, CP violating phase\n",
      "S067CPT    0.000110 <Deltamass**2(21)-Deltambar(21)**2>\n",
      "S067CP2    -0.000120 <Deltamass**2(32)-Deltambar(32)**2>\n"
     ]
    }
   ],
   "source": [
    "parent = api.get('S067')\n",
    "for prop in parent.get_children():\n",
    "    if prop.has_best_summary():\n",
    "        print(f'{prop.baseid:10s} {prop.value:8f} {prop.description}')"
   ]
  },
  {
   "cell_type": "markdown",
   "id": "ad373e74-b31c-4401-aa3c-99f800089c02",
   "metadata": {},
   "source": [
    "## Wrapping up"
   ]
  },
  {
   "cell_type": "markdown",
   "id": "a7d36600-adb4-4b10-ae50-d119e589734e",
   "metadata": {},
   "source": [
    "### Pedantic mode"
   ]
  },
  {
   "attachments": {},
   "cell_type": "markdown",
   "id": "1c8f257e-3593-465c-9a75-d9a79259a4fa",
   "metadata": {},
   "source": [
    "Before we close, there's one important feature of the API that bears mentioning: *pedantic mode*. In pedantic mode, the API will not automatically choose the \"best\" property or summary value when multiple options are available. Instead, an exception will be thrown in such situations.\n",
    "\n",
    "For example, we saw earlier that the top quark has three mass properties. Outside of pedantic mode, the API will choose the \"best\" (first) option:"
   ]
  },
  {
   "cell_type": "code",
   "execution_count": 34,
   "id": "1d75b981-5bcb-43b8-a088-24f8801da543",
   "metadata": {},
   "outputs": [
    {
     "data": {
      "text/plain": [
       "[PdgMass('Q007TP/2024'), PdgMass('Q007TP2/2024'), PdgMass('Q007TP4/2024')]"
      ]
     },
     "execution_count": 34,
     "metadata": {},
     "output_type": "execute_result"
    }
   ],
   "source": [
    "top = api.get_particle_by_name('t')\n",
    "list(top.masses())"
   ]
  },
  {
   "cell_type": "code",
   "execution_count": 35,
   "id": "13a0d953-bb9c-46fe-931c-28e427e36b46",
   "metadata": {},
   "outputs": [
    {
     "data": {
      "text/plain": [
       "172.5746930968864"
      ]
     },
     "execution_count": 35,
     "metadata": {},
     "output_type": "execute_result"
    }
   ],
   "source": [
    "top.mass"
   ]
  },
  {
   "cell_type": "markdown",
   "id": "4c50f966-de56-41ed-9dc5-f201ef86c450",
   "metadata": {},
   "source": [
    "In pedantic mode, this is not the case:"
   ]
  },
  {
   "cell_type": "code",
   "execution_count": 36,
   "id": "2a48e6d1-61ed-457d-8fe1-9f9e3eb7a4d4",
   "metadata": {},
   "outputs": [
    {
     "name": "stdout",
     "output_type": "stream",
     "text": [
      "<class 'pdg.errors.PdgAmbiguousValueError'> Ambiguous best property for t mass (Q007/2024)\n"
     ]
    }
   ],
   "source": [
    "api_pedantic = pdg.connect(pedantic=True)\n",
    "\n",
    "try:\n",
    "    api_pedantic.get_particle_by_name('t').mass\n",
    "except Exception as e:\n",
    "    print(type(e), e)"
   ]
  },
  {
   "cell_type": "markdown",
   "id": "9fca31d4-d9c4-4ed3-b4dd-604cfd68015e",
   "metadata": {},
   "source": [
    "In such a situation, pedantic mode will require youto be explicit about which mass you want:"
   ]
  },
  {
   "cell_type": "code",
   "execution_count": 37,
   "id": "9f8fc139-9d25-4bbe-bfea-f99be49201fe",
   "metadata": {},
   "outputs": [
    {
     "data": {
      "text/plain": [
       "172.5746930968864"
      ]
     },
     "execution_count": 37,
     "metadata": {},
     "output_type": "execute_result"
    }
   ],
   "source": [
    "api_pedantic.get('Q007TP').best_summary().get_value('GeV')"
   ]
  },
  {
   "cell_type": "markdown",
   "id": "909c62ef-0ea9-43ae-8bab-362a3153bb8d",
   "metadata": {},
   "source": [
    "### Closing words"
   ]
  },
  {
   "cell_type": "markdown",
   "id": "32b7aae1-bede-416b-8ab2-ab57e069b8f1",
   "metadata": {},
   "source": [
    "This concludes our tour of the PDG API. Thanks for following along! We hope that you are now positioned to start making use of the API, and we welcome your feedback."
   ]
  }
 ],
 "metadata": {
  "kernelspec": {
   "display_name": "Python 3 (ipykernel)",
   "language": "python",
   "name": "python3"
  },
  "language_info": {
   "codemirror_mode": {
    "name": "ipython",
    "version": 3
   },
   "file_extension": ".py",
   "mimetype": "text/x-python",
   "name": "python",
   "nbconvert_exporter": "python",
   "pygments_lexer": "ipython3",
   "version": "3.11.8"
  }
 },
 "nbformat": 4,
 "nbformat_minor": 5
}
